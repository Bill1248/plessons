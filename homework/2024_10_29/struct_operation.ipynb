{
 "cells": [
  {
   "cell_type": "code",
   "execution_count": 3,
   "metadata": {},
   "outputs": [
    {
     "name": "stdout",
     "output_type": "stream",
     "text": [
      "{'jan': {'salary': 1500, 'expense': 500}, 'feb': {'salary': 1200, 'expense': 1700}, 'mar': {'salary': 1700, 'expense': 700}}\n",
      "Jan balance:  1000\n",
      "Feb balance:  -500\n",
      "Mar balance:  1000\n"
     ]
    }
   ],
   "source": [
    "money = {\n",
    "    'jan': {\n",
    "        'salary': 1500,\n",
    "        'expense': 500\n",
    "    },\n",
    "    'feb': {\n",
    "        'salary': 1200,\n",
    "        'expense': 1700\n",
    "    },\n",
    "    'mar': {\n",
    "        'salary': 1700,\n",
    "        'expense': 700\n",
    "    }\n",
    "}\n",
    "\n",
    "print(money)\n",
    "money['jan']['balance'] = money['jan']['salary'] - money['jan']['expense']\n",
    "money['feb']['balance'] = money['feb']['salary'] - money['feb']['expense']\n",
    "money['mar']['balance'] = money['mar']['salary'] - money['mar']['expense']\n",
    "\n",
    "print(f\"Jan balance:  {money['jan']['balance']}\")\n",
    "print(f\"Feb balance:  {money['feb']['balance']}\")\n",
    "print(f\"Mar balance:  {money['mar']['balance']}\")\n"
   ]
  }
 ],
 "metadata": {
  "kernelspec": {
   "display_name": "Python 3",
   "language": "python",
   "name": "python3"
  },
  "language_info": {
   "codemirror_mode": {
    "name": "ipython",
    "version": 3
   },
   "file_extension": ".py",
   "mimetype": "text/x-python",
   "name": "python",
   "nbconvert_exporter": "python",
   "pygments_lexer": "ipython3",
   "version": "3.12.3"
  }
 },
 "nbformat": 4,
 "nbformat_minor": 2
}
