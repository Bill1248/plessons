{
 "cells": [
  {
   "cell_type": "code",
   "execution_count": 2,
   "metadata": {},
   "outputs": [
    {
     "name": "stdout",
     "output_type": "stream",
     "text": [
      "0.006538461538461539\n"
     ]
    }
   ],
   "source": [
    "# Использование формулы Байеса на Python\n",
    "# вероятность того, что человек пьет кофе\n",
    "p_coffee_drinker = .65\n",
    "# вероятность того, что человек болен раком\n",
    "p_cancer = .005\n",
    "# вероятность того, что человек пьет кофе,\n",
    "# при условии, что он болен раком\n",
    "p_coffee_drinker_given_cancer = .85\n",
    "\n",
    "# вероятность того, что человек болен раком,\n",
    "# при условии, что он пьет кофе\n",
    "p_cancer_given_coffee_drinker = \\\n",
    "    p_coffee_drinker_given_cancer * p_cancer / p_coffee_drinker\n",
    "# выводит 0.006538461538461539\n",
    "print(p_cancer_given_coffee_drinker)"
   ]
  },
  {
   "cell_type": "code",
   "execution_count": 3,
   "metadata": {},
   "outputs": [
    {
     "name": "stdout",
     "output_type": "stream",
     "text": [
      "0 - 9.999999999999981e-11\n",
      "1 - 8.999999999999986e-09\n",
      "2 - 3.644999999999997e-07\n",
      "3 - 8.747999999999995e-06\n",
      "4 - 0.00013778099999999982\n",
      "5 - 0.0014880347999999988\n",
      "6 - 0.011160261000000001\n",
      "7 - 0.05739562799999998\n",
      "8 - 0.1937102445\n",
      "9 - 0.387420489\n",
      "10 - 0.3486784401000001\n"
     ]
    }
   ],
   "source": [
    "#Использование библиотеки SciPy для биномиального распределения\n",
    "from scipy.stats import binom\n",
    "n = 10 # количество испытаний\n",
    "p = 0.9 # вероятность успеха в каждом испытании\n",
    "for k in range(n + 1): # количество успехов\n",
    "    probability = binom.pmf(k, n, p)\n",
    "    print(f\"{k} - {probability}\")"
   ]
  },
  {
   "cell_type": "code",
   "execution_count": 4,
   "metadata": {},
   "outputs": [
    {
     "name": "stdout",
     "output_type": "stream",
     "text": [
      "0.7748409780000002\n"
     ]
    }
   ],
   "source": [
    "# Вычисление бета-распределения с помощью SciPy\n",
    "from scipy.stats import beta\n",
    "a = 8\n",
    "b = 2\n",
    "p = beta.cdf(.90, a, b)\n",
    "# 0.7748409780000002\n",
    "print(p)"
   ]
  },
  {
   "cell_type": "code",
   "execution_count": 5,
   "metadata": {},
   "outputs": [
    {
     "name": "stdout",
     "output_type": "stream",
     "text": [
      "0.22515902199999982\n"
     ]
    }
   ],
   "source": [
    "# Операция вычитания, которая дает площадь области справа\n",
    "# от граничного значения в бета-распределении\n",
    "from scipy.stats import beta\n",
    "a = 8\n",
    "b = 2\n",
    "p = 1.0 - beta.cdf(.90, a, b)\n",
    "# 0.2251590219999998\n",
    "print(p)\n"
   ]
  },
  {
   "cell_type": "code",
   "execution_count": 7,
   "metadata": {},
   "outputs": [
    {
     "name": "stdout",
     "output_type": "stream",
     "text": [
      "0.13163577484183697\n"
     ]
    }
   ],
   "source": [
    "# Бета-распределение с бóльшим количеством испытаний\n",
    "from scipy.stats import beta\n",
    "a = 30\n",
    "b = 6\n",
    "p = 1.0 - beta.cdf(.90, a, b)\n",
    "# 0.13163577484183686\n",
    "print(p)\n"
   ]
  },
  {
   "cell_type": "code",
   "execution_count": 8,
   "metadata": {},
   "outputs": [
    {
     "name": "stdout",
     "output_type": "stream",
     "text": [
      "0.33863336199999994\n"
     ]
    }
   ],
   "source": [
    "# Вычисление площади в середине бета-распределения с помощью SciPy\n",
    "from scipy.stats import beta\n",
    "a = 8\n",
    "b = 2\n",
    "p = beta.cdf(.90, a, b) - beta.cdf(.80, a, b)\n",
    "# 0.3386333619999998\n",
    "print(p)\n"
   ]
  }
 ],
 "metadata": {
  "kernelspec": {
   "display_name": "lessons",
   "language": "python",
   "name": "python3"
  },
  "language_info": {
   "codemirror_mode": {
    "name": "ipython",
    "version": 3
   },
   "file_extension": ".py",
   "mimetype": "text/x-python",
   "name": "python",
   "nbconvert_exporter": "python",
   "pygments_lexer": "ipython3",
   "version": "3.13.2"
  }
 },
 "nbformat": 4,
 "nbformat_minor": 2
}
