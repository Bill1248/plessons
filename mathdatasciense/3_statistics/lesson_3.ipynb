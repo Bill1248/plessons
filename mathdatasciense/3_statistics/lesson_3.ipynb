{
 "cells": [
  {
   "cell_type": "code",
   "execution_count": 1,
   "metadata": {},
   "outputs": [
    {
     "name": "stdout",
     "output_type": "stream",
     "text": [
      "2.875\n"
     ]
    }
   ],
   "source": [
    "# Вычисление среднего арифметического на Python\n",
    "# Количество домашних животных у каждого респондента\n",
    "sample = [1, 3, 2, 5, 7, 0, 2, 3]\n",
    "mean = sum(sample) / len(sample)\n",
    "print(mean) # выводит 2.875"
   ]
  },
  {
   "cell_type": "code",
   "execution_count": 2,
   "metadata": {},
   "outputs": [
    {
     "name": "stdout",
     "output_type": "stream",
     "text": [
      "81.4\n"
     ]
    }
   ],
   "source": [
    "# Вычисление среднего взвешенного на Python2\n",
    "# Три промежуточных экзамена с весом 0,20 и выпускной экзамен с весом 0,40\n",
    "sample = [90, 80, 63, 87]\n",
    "weights = [0.2, 0.2, 0.2, 0.4]\n",
    "weighted_mean = sum(s * w for s,w in zip(sample, weights)) / sum(weights)\n",
    "print(weighted_mean) # выводит 81.4"
   ]
  },
  {
   "cell_type": "code",
   "execution_count": 3,
   "metadata": {},
   "outputs": [
    {
     "name": "stdout",
     "output_type": "stream",
     "text": [
      "81.4\n"
     ]
    }
   ],
   "source": [
    " # Вычисление среднего взвешенного на Python\n",
    "# Три промежуточных экзамена с весом 1,0 и выпускной экзамен с весом 2,0\n",
    "sample = [90, 80, 63, 87]\n",
    "weights = [1.0, 1.0, 1.0, 2.0]\n",
    "weighted_mean = sum(s * w for s,w in zip(sample, weights)) / sum(weights)\n",
    "print(weighted_mean) # выводит 81.4"
   ]
  },
  {
   "cell_type": "code",
   "execution_count": 4,
   "metadata": {},
   "outputs": [
    {
     "name": "stdout",
     "output_type": "stream",
     "text": [
      "7\n"
     ]
    }
   ],
   "source": [
    "# Вычисление медианы на Python1\n",
    "# Количество домашних животных у каждого респондента\n",
    "sample = [0, 1, 5, 7, 9, 10, 14]\n",
    "def median(values):\n",
    "    ordered = sorted(values)\n",
    "    n = len(ordered)\n",
    "    mid = int(n / 2) - 1 if n % 2 == 0 else int(n/2)\n",
    "    if n % 2 == 0:\n",
    "        return (ordered[mid] + ordered[mid+1]) / 2.0\n",
    "    else:\n",
    "        return ordered[mid]\n",
    "    \n",
    "print(median(sample)) # выводит 7"
   ]
  },
  {
   "cell_type": "code",
   "execution_count": 7,
   "metadata": {},
   "outputs": [
    {
     "name": "stdout",
     "output_type": "stream",
     "text": [
      "defaultdict(<function mode.<locals>.<lambda> at 0x104c08680>, {})\n",
      "defaultdict(<function mode.<locals>.<lambda> at 0x104c08680>, {1: 1, 3: 2, 2: 2, 5: 1, 7: 1, 0: 1})\n",
      "2\n",
      "[2, 3]\n"
     ]
    }
   ],
   "source": [
    "# Вычисление моды на Python2\n",
    "from collections import defaultdict\n",
    "# Количество домашних животных у каждого респондента\n",
    "sample = [1, 3, 2, 5, 7, 0, 2, 3]\n",
    "def mode(values):\n",
    "    counts = defaultdict(lambda: 0)\n",
    "    print(counts)\n",
    "    for s in values:\n",
    "        counts[s] += 1\n",
    "    print(counts)\n",
    "    max_count = max(counts.values())\n",
    "    print(max_count)\n",
    "    modes = [v for v in set(values) if counts[v] == max_count]\n",
    "    return modes\n",
    "print(mode(sample)) # [2, 3]"
   ]
  },
  {
   "cell_type": "code",
   "execution_count": 8,
   "metadata": {},
   "outputs": [
    {
     "name": "stdout",
     "output_type": "stream",
     "text": [
      "21.387755102040817\n"
     ]
    }
   ],
   "source": [
    "# Вычисление дисперсии на Python\n",
    "# Количество домашних животных у каждого респондента\n",
    "data = [0, 1, 5, 7, 9, 10, 14]\n",
    "\n",
    "def variance(values):\n",
    "    mean = sum(values) / len(values)\n",
    "    _variance = sum((v - mean) ** 2 for v in values) / len(values)\n",
    "    return _variance\n",
    "print(variance(data)) # выводит 21.387755102040817"
   ]
  },
  {
   "cell_type": "code",
   "execution_count": 9,
   "metadata": {},
   "outputs": [
    {
     "name": "stdout",
     "output_type": "stream",
     "text": [
      "4.624689730353899\n"
     ]
    }
   ],
   "source": [
    "#Вычисление стандартного отклонения на Python1\n",
    "from math import sqrt\n",
    "# Количество домашних животных у каждого респондента\n",
    "data = [0, 1, 5, 7, 9, 10, 14]\n",
    "\n",
    "def variance(values):\n",
    "    mean = sum(values) / len(values)\n",
    "    _variance = sum((v - mean) ** 2 for v in values) / len(values)\n",
    "    return _variance\n",
    "\n",
    "def std_dev(values):\n",
    "    return sqrt(variance(values))\n",
    "\n",
    "print(std_dev(data)) # выводит 4.624689730353899"
   ]
  },
  {
   "cell_type": "code",
   "execution_count": 10,
   "metadata": {},
   "outputs": [
    {
     "name": "stdout",
     "output_type": "stream",
     "text": [
      "Дисперсия = 24.952380952380953\n",
      "Стандартное отклонение = 4.995235825502231\n"
     ]
    }
   ],
   "source": [
    "# Вычисление выборочного стандартного отклонения\n",
    "from math import sqrt\n",
    "# Количество домашних животных у каждого респондента\n",
    "data = [0, 1, 5, 7, 9, 10, 14]\n",
    "\n",
    "def variance(values, is_sample: bool = False):\n",
    "    mean = sum(values) / len(values)\n",
    "    _variance = sum((v - mean) ** 2 for v in values) /\\\n",
    "        (len(values) - (1 if is_sample else 0))\n",
    "    return _variance\n",
    "\n",
    "def std_dev(values, is_sample: bool = False):\n",
    "    return sqrt(variance(values, is_sample))\n",
    "\n",
    "print(f\"Дисперсия = {variance(data, is_sample=True)}\") # 24.952380952380953\n",
    "print(f\"Стандартное отклонение = {std_dev(data, is_sample=True)}\")\n",
    "# 4.995235825502231"
   ]
  },
  {
   "cell_type": "code",
   "execution_count": null,
   "metadata": {},
   "outputs": [],
   "source": [
    "# Функция нормального распределения на Python\n",
    "# нормальное распределение, возвращает правдоподобие\n",
    "import math\n",
    "\n",
    "def normal_pdf(x: float, mean: float, std_dev: float) -> float:\n",
    "    return (1.0 / (2.0 * math.pi * std_dev ** 2) ** 0.5) * \\\n",
    "        math.exp(-1.0 * ((x - mean) ** 2 / (2.0 * std_dev ** 2)))"
   ]
  },
  {
   "cell_type": "code",
   "execution_count": 11,
   "metadata": {},
   "outputs": [
    {
     "name": "stdout",
     "output_type": "stream",
     "text": [
      "0.5\n"
     ]
    }
   ],
   "source": [
    "# Функция нормального распределения на Python\n",
    "from scipy.stats import norm\n",
    "\n",
    "mean = 64.43 # среднее\n",
    "std_dev = 2.99 # стандартное отклонение\n",
    "x = norm.cdf(64.43, mean, std_dev)\n",
    "print(x) # выводит 0.5"
   ]
  },
  {
   "cell_type": "code",
   "execution_count": 12,
   "metadata": {},
   "outputs": [
    {
     "name": "stdout",
     "output_type": "stream",
     "text": [
      "0.4920450147062894\n"
     ]
    }
   ],
   "source": [
    "# Вычисление вероятности промежуточного интервала с помощью CDF\n",
    "from scipy.stats import norm\n",
    "mean = 64.43\n",
    "std_dev = 2.99\n",
    "x = norm.cdf(66, mean, std_dev) - norm.cdf(62, mean, std_dev)\n",
    "print(x) # выводит 0.4920450147062894"
   ]
  },
  {
   "cell_type": "code",
   "execution_count": 13,
   "metadata": {},
   "outputs": [
    {
     "name": "stdout",
     "output_type": "stream",
     "text": [
      "69.3481123445849\n"
     ]
    }
   ],
   "source": [
    "# Использование функции, обратной к функции распределения, на Python\n",
    "from scipy.stats import norm\n",
    "x = norm.ppf(.95, loc=64.43, scale=2.99)\n",
    "# первый аргумент 0.95 — вероятность\n",
    "# loc — среднее, scale — стандартное отклонение\n",
    "print(x) # 69.3481123445849"
   ]
  },
  {
   "cell_type": "code",
   "execution_count": 14,
   "metadata": {},
   "outputs": [
    {
     "name": "stdout",
     "output_type": "stream",
     "text": [
      "67.17811883266931\n",
      "67.72381956928866\n",
      "66.07847424909306\n",
      "69.77509915020343\n",
      "58.58890999125504\n",
      "63.37479407767604\n",
      "63.045753432100334\n",
      "63.57767881710823\n",
      "58.46294924124179\n",
      "65.19441127755556\n",
      "61.38776301600691\n",
      "64.00328769052346\n",
      "66.9360664969206\n",
      "66.10347126312313\n",
      "62.18091209655209\n",
      "67.56571481169152\n",
      "67.3195847519445\n",
      "66.16553925018054\n",
      "68.63086623759337\n",
      "64.55758664436185\n"
     ]
    }
   ],
   "source": [
    "#Генератор случайных чисел, которые соответствуют нормальному распределению\n",
    "import random\n",
    "from scipy.stats import norm\n",
    "for i in range(0, 20):\n",
    "    random_p = random.uniform(0.0, 1.0)\n",
    "    random_weight = norm.ppf(random_p, loc=64.43, scale=2.99)\n",
    "    print(random_weight)\n"
   ]
  },
  {
   "cell_type": "code",
   "execution_count": 2,
   "metadata": {},
   "outputs": [
    {
     "name": "stdout",
     "output_type": "stream",
     "text": [
      "Z-оценка: 3.3333333333333335\n",
      "Преобразование обратно в x: 150000.0\n"
     ]
    }
   ],
   "source": [
    "# Преобразование Z-оценки в значение x и обратно\n",
    "\n",
    "def z_score(x, mean, std):\n",
    "    return (x - mean) / std\n",
    "\n",
    "def z_to_x(z, mean, std):\n",
    "    return (z * std) + mean\n",
    "\n",
    "mean = 140_000\n",
    "std_dev = 3_000\n",
    "x = 150_000\n",
    "# Преобразование из x в Z-оценку и обратно\n",
    "z = z_score(x, mean, std_dev)\n",
    "back_to_x = z_to_x(z, mean, std_dev)\n",
    "print(f\"Z-оценка: {z}\") # Z-оценка: 3.333…\n",
    "print(f\"Преобразование обратно в x: {back_to_x}\") # X: 150000.0"
   ]
  },
  {
   "cell_type": "code",
   "execution_count": null,
   "metadata": {},
   "outputs": [
    {
     "data": {
      "application/vnd.plotly.v1+json": {
       "config": {
        "plotlyServerURL": "https://plot.ly"
       },
       "data": [
        {
         "bingroup": "x",
         "histfunc": "sum",
         "hovertemplate": "x=%{x}<br>sum of y=%{y}<extra></extra>",
         "legendgroup": "",
         "marker": {
          "color": "#636efa",
          "pattern": {
           "shape": ""
          }
         },
         "name": "",
         "nbinsx": 20,
         "orientation": "v",
         "showlegend": false,
         "type": "histogram",
         "x": {
          "bdata": "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",
          "dtype": "f8"
         },
         "xaxis": "x",
         "y": {
          "bdata": "AQEBAQEBAQEBAQEBAQEBAQEBAQEBAQEBAQEBAQEBAQEBAQEBAQEBAQEBAQEBAQEBAQEBAQEBAQEBAQEBAQEBAQEBAQEBAQEBAQEBAQEBAQEBAQEBAQEBAQEBAQEBAQEBAQEBAQEBAQEBAQEBAQEBAQEBAQEBAQEBAQEBAQEBAQEBAQEBAQEBAQEBAQEBAQEBAQEBAQEBAQEBAQEBAQEBAQEBAQEBAQEBAQEBAQEBAQEBAQEBAQEBAQEBAQEBAQEBAQEBAQEBAQEBAQEBAQEBAQEBAQEBAQEBAQEBAQEBAQEBAQEBAQEBAQEBAQEBAQEBAQEBAQEBAQEBAQEBAQEBAQEBAQEBAQEBAQEBAQEBAQEBAQEBAQEBAQEBAQEBAQEBAQEBAQEBAQEBAQEBAQEBAQEBAQEBAQEBAQEBAQEBAQEBAQEBAQEBAQEBAQEBAQEBAQEBAQEBAQEBAQEBAQEBAQEBAQEBAQEBAQEBAQEBAQEBAQEBAQEBAQEBAQEBAQEBAQEBAQEBAQEBAQEBAQEBAQEBAQEBAQEBAQEBAQEBAQEBAQEBAQEBAQEBAQEBAQEBAQEBAQEBAQEBAQEBAQEBAQEBAQEBAQEBAQEBAQEBAQEBAQEBAQEBAQEBAQEBAQEBAQEBAQEBAQEBAQEBAQEBAQEBAQEBAQEBAQEBAQEBAQEBAQEBAQEBAQEBAQEBAQEBAQEBAQEBAQEBAQEBAQEBAQEBAQEBAQEBAQEBAQEBAQEBAQEBAQEBAQEBAQEBAQEBAQEBAQEBAQEBAQEBAQEBAQEBAQEBAQEBAQEBAQEBAQEBAQEBAQEBAQEBAQEBAQEBAQEBAQEBAQEBAQEBAQEBAQEBAQEBAQEBAQEBAQEBAQEBAQEBAQEBAQEBAQEBAQEBAQEBAQEBAQEBAQEBAQEBAQEBAQEBAQEBAQEBAQEBAQEBAQEBAQEBAQEBAQEBAQEBAQEBAQEBAQEBAQEBAQEBAQEBAQEBAQEBAQEBAQEBAQEBAQEBAQEBAQEBAQEBAQEBAQEBAQEBAQEBAQEBAQEBAQEBAQEBAQEBAQEBAQEBAQEBAQEBAQEBAQEBAQEBAQEBAQEBAQEBAQEBAQEBAQEBAQEBAQEBAQEBAQEBAQEBAQEBAQEBAQEBAQEBAQEBAQEBAQEBAQEBAQEBAQEBAQEBAQEBAQEBAQEBAQEBAQEBAQEBAQEBAQEBAQEBAQEBAQEBAQEBAQEBAQEBAQEBAQEBAQEBAQEBAQEBAQEBAQEBAQEBAQEBAQEBAQEBAQEBAQEBAQEBAQEBAQEBAQEBAQEBAQEBAQEBAQEBAQEBAQEBAQEBAQEBAQEBAQ==",
          "dtype": "i1"
         },
         "yaxis": "y"
        }
       ],
       "layout": {
        "barmode": "relative",
        "legend": {
         "tracegroupgap": 0
        },
        "margin": {
         "t": 60
        },
        "template": {
         "data": {
          "bar": [
           {
            "error_x": {
             "color": "#2a3f5f"
            },
            "error_y": {
             "color": "#2a3f5f"
            },
            "marker": {
             "line": {
              "color": "#E5ECF6",
              "width": 0.5
             },
             "pattern": {
              "fillmode": "overlay",
              "size": 10,
              "solidity": 0.2
             }
            },
            "type": "bar"
           }
          ],
          "barpolar": [
           {
            "marker": {
             "line": {
              "color": "#E5ECF6",
              "width": 0.5
             },
             "pattern": {
              "fillmode": "overlay",
              "size": 10,
              "solidity": 0.2
             }
            },
            "type": "barpolar"
           }
          ],
          "carpet": [
           {
            "aaxis": {
             "endlinecolor": "#2a3f5f",
             "gridcolor": "white",
             "linecolor": "white",
             "minorgridcolor": "white",
             "startlinecolor": "#2a3f5f"
            },
            "baxis": {
             "endlinecolor": "#2a3f5f",
             "gridcolor": "white",
             "linecolor": "white",
             "minorgridcolor": "white",
             "startlinecolor": "#2a3f5f"
            },
            "type": "carpet"
           }
          ],
          "choropleth": [
           {
            "colorbar": {
             "outlinewidth": 0,
             "ticks": ""
            },
            "type": "choropleth"
           }
          ],
          "contour": [
           {
            "colorbar": {
             "outlinewidth": 0,
             "ticks": ""
            },
            "colorscale": [
             [
              0,
              "#0d0887"
             ],
             [
              0.1111111111111111,
              "#46039f"
             ],
             [
              0.2222222222222222,
              "#7201a8"
             ],
             [
              0.3333333333333333,
              "#9c179e"
             ],
             [
              0.4444444444444444,
              "#bd3786"
             ],
             [
              0.5555555555555556,
              "#d8576b"
             ],
             [
              0.6666666666666666,
              "#ed7953"
             ],
             [
              0.7777777777777778,
              "#fb9f3a"
             ],
             [
              0.8888888888888888,
              "#fdca26"
             ],
             [
              1,
              "#f0f921"
             ]
            ],
            "type": "contour"
           }
          ],
          "contourcarpet": [
           {
            "colorbar": {
             "outlinewidth": 0,
             "ticks": ""
            },
            "type": "contourcarpet"
           }
          ],
          "heatmap": [
           {
            "colorbar": {
             "outlinewidth": 0,
             "ticks": ""
            },
            "colorscale": [
             [
              0,
              "#0d0887"
             ],
             [
              0.1111111111111111,
              "#46039f"
             ],
             [
              0.2222222222222222,
              "#7201a8"
             ],
             [
              0.3333333333333333,
              "#9c179e"
             ],
             [
              0.4444444444444444,
              "#bd3786"
             ],
             [
              0.5555555555555556,
              "#d8576b"
             ],
             [
              0.6666666666666666,
              "#ed7953"
             ],
             [
              0.7777777777777778,
              "#fb9f3a"
             ],
             [
              0.8888888888888888,
              "#fdca26"
             ],
             [
              1,
              "#f0f921"
             ]
            ],
            "type": "heatmap"
           }
          ],
          "histogram": [
           {
            "marker": {
             "pattern": {
              "fillmode": "overlay",
              "size": 10,
              "solidity": 0.2
             }
            },
            "type": "histogram"
           }
          ],
          "histogram2d": [
           {
            "colorbar": {
             "outlinewidth": 0,
             "ticks": ""
            },
            "colorscale": [
             [
              0,
              "#0d0887"
             ],
             [
              0.1111111111111111,
              "#46039f"
             ],
             [
              0.2222222222222222,
              "#7201a8"
             ],
             [
              0.3333333333333333,
              "#9c179e"
             ],
             [
              0.4444444444444444,
              "#bd3786"
             ],
             [
              0.5555555555555556,
              "#d8576b"
             ],
             [
              0.6666666666666666,
              "#ed7953"
             ],
             [
              0.7777777777777778,
              "#fb9f3a"
             ],
             [
              0.8888888888888888,
              "#fdca26"
             ],
             [
              1,
              "#f0f921"
             ]
            ],
            "type": "histogram2d"
           }
          ],
          "histogram2dcontour": [
           {
            "colorbar": {
             "outlinewidth": 0,
             "ticks": ""
            },
            "colorscale": [
             [
              0,
              "#0d0887"
             ],
             [
              0.1111111111111111,
              "#46039f"
             ],
             [
              0.2222222222222222,
              "#7201a8"
             ],
             [
              0.3333333333333333,
              "#9c179e"
             ],
             [
              0.4444444444444444,
              "#bd3786"
             ],
             [
              0.5555555555555556,
              "#d8576b"
             ],
             [
              0.6666666666666666,
              "#ed7953"
             ],
             [
              0.7777777777777778,
              "#fb9f3a"
             ],
             [
              0.8888888888888888,
              "#fdca26"
             ],
             [
              1,
              "#f0f921"
             ]
            ],
            "type": "histogram2dcontour"
           }
          ],
          "mesh3d": [
           {
            "colorbar": {
             "outlinewidth": 0,
             "ticks": ""
            },
            "type": "mesh3d"
           }
          ],
          "parcoords": [
           {
            "line": {
             "colorbar": {
              "outlinewidth": 0,
              "ticks": ""
             }
            },
            "type": "parcoords"
           }
          ],
          "pie": [
           {
            "automargin": true,
            "type": "pie"
           }
          ],
          "scatter": [
           {
            "fillpattern": {
             "fillmode": "overlay",
             "size": 10,
             "solidity": 0.2
            },
            "type": "scatter"
           }
          ],
          "scatter3d": [
           {
            "line": {
             "colorbar": {
              "outlinewidth": 0,
              "ticks": ""
             }
            },
            "marker": {
             "colorbar": {
              "outlinewidth": 0,
              "ticks": ""
             }
            },
            "type": "scatter3d"
           }
          ],
          "scattercarpet": [
           {
            "marker": {
             "colorbar": {
              "outlinewidth": 0,
              "ticks": ""
             }
            },
            "type": "scattercarpet"
           }
          ],
          "scattergeo": [
           {
            "marker": {
             "colorbar": {
              "outlinewidth": 0,
              "ticks": ""
             }
            },
            "type": "scattergeo"
           }
          ],
          "scattergl": [
           {
            "marker": {
             "colorbar": {
              "outlinewidth": 0,
              "ticks": ""
             }
            },
            "type": "scattergl"
           }
          ],
          "scattermap": [
           {
            "marker": {
             "colorbar": {
              "outlinewidth": 0,
              "ticks": ""
             }
            },
            "type": "scattermap"
           }
          ],
          "scattermapbox": [
           {
            "marker": {
             "colorbar": {
              "outlinewidth": 0,
              "ticks": ""
             }
            },
            "type": "scattermapbox"
           }
          ],
          "scatterpolar": [
           {
            "marker": {
             "colorbar": {
              "outlinewidth": 0,
              "ticks": ""
             }
            },
            "type": "scatterpolar"
           }
          ],
          "scatterpolargl": [
           {
            "marker": {
             "colorbar": {
              "outlinewidth": 0,
              "ticks": ""
             }
            },
            "type": "scatterpolargl"
           }
          ],
          "scatterternary": [
           {
            "marker": {
             "colorbar": {
              "outlinewidth": 0,
              "ticks": ""
             }
            },
            "type": "scatterternary"
           }
          ],
          "surface": [
           {
            "colorbar": {
             "outlinewidth": 0,
             "ticks": ""
            },
            "colorscale": [
             [
              0,
              "#0d0887"
             ],
             [
              0.1111111111111111,
              "#46039f"
             ],
             [
              0.2222222222222222,
              "#7201a8"
             ],
             [
              0.3333333333333333,
              "#9c179e"
             ],
             [
              0.4444444444444444,
              "#bd3786"
             ],
             [
              0.5555555555555556,
              "#d8576b"
             ],
             [
              0.6666666666666666,
              "#ed7953"
             ],
             [
              0.7777777777777778,
              "#fb9f3a"
             ],
             [
              0.8888888888888888,
              "#fdca26"
             ],
             [
              1,
              "#f0f921"
             ]
            ],
            "type": "surface"
           }
          ],
          "table": [
           {
            "cells": {
             "fill": {
              "color": "#EBF0F8"
             },
             "line": {
              "color": "white"
             }
            },
            "header": {
             "fill": {
              "color": "#C8D4E3"
             },
             "line": {
              "color": "white"
             }
            },
            "type": "table"
           }
          ]
         },
         "layout": {
          "annotationdefaults": {
           "arrowcolor": "#2a3f5f",
           "arrowhead": 0,
           "arrowwidth": 1
          },
          "autotypenumbers": "strict",
          "coloraxis": {
           "colorbar": {
            "outlinewidth": 0,
            "ticks": ""
           }
          },
          "colorscale": {
           "diverging": [
            [
             0,
             "#8e0152"
            ],
            [
             0.1,
             "#c51b7d"
            ],
            [
             0.2,
             "#de77ae"
            ],
            [
             0.3,
             "#f1b6da"
            ],
            [
             0.4,
             "#fde0ef"
            ],
            [
             0.5,
             "#f7f7f7"
            ],
            [
             0.6,
             "#e6f5d0"
            ],
            [
             0.7,
             "#b8e186"
            ],
            [
             0.8,
             "#7fbc41"
            ],
            [
             0.9,
             "#4d9221"
            ],
            [
             1,
             "#276419"
            ]
           ],
           "sequential": [
            [
             0,
             "#0d0887"
            ],
            [
             0.1111111111111111,
             "#46039f"
            ],
            [
             0.2222222222222222,
             "#7201a8"
            ],
            [
             0.3333333333333333,
             "#9c179e"
            ],
            [
             0.4444444444444444,
             "#bd3786"
            ],
            [
             0.5555555555555556,
             "#d8576b"
            ],
            [
             0.6666666666666666,
             "#ed7953"
            ],
            [
             0.7777777777777778,
             "#fb9f3a"
            ],
            [
             0.8888888888888888,
             "#fdca26"
            ],
            [
             1,
             "#f0f921"
            ]
           ],
           "sequentialminus": [
            [
             0,
             "#0d0887"
            ],
            [
             0.1111111111111111,
             "#46039f"
            ],
            [
             0.2222222222222222,
             "#7201a8"
            ],
            [
             0.3333333333333333,
             "#9c179e"
            ],
            [
             0.4444444444444444,
             "#bd3786"
            ],
            [
             0.5555555555555556,
             "#d8576b"
            ],
            [
             0.6666666666666666,
             "#ed7953"
            ],
            [
             0.7777777777777778,
             "#fb9f3a"
            ],
            [
             0.8888888888888888,
             "#fdca26"
            ],
            [
             1,
             "#f0f921"
            ]
           ]
          },
          "colorway": [
           "#636efa",
           "#EF553B",
           "#00cc96",
           "#ab63fa",
           "#FFA15A",
           "#19d3f3",
           "#FF6692",
           "#B6E880",
           "#FF97FF",
           "#FECB52"
          ],
          "font": {
           "color": "#2a3f5f"
          },
          "geo": {
           "bgcolor": "white",
           "lakecolor": "white",
           "landcolor": "#E5ECF6",
           "showlakes": true,
           "showland": true,
           "subunitcolor": "white"
          },
          "hoverlabel": {
           "align": "left"
          },
          "hovermode": "closest",
          "mapbox": {
           "style": "light"
          },
          "paper_bgcolor": "white",
          "plot_bgcolor": "#E5ECF6",
          "polar": {
           "angularaxis": {
            "gridcolor": "white",
            "linecolor": "white",
            "ticks": ""
           },
           "bgcolor": "#E5ECF6",
           "radialaxis": {
            "gridcolor": "white",
            "linecolor": "white",
            "ticks": ""
           }
          },
          "scene": {
           "xaxis": {
            "backgroundcolor": "#E5ECF6",
            "gridcolor": "white",
            "gridwidth": 2,
            "linecolor": "white",
            "showbackground": true,
            "ticks": "",
            "zerolinecolor": "white"
           },
           "yaxis": {
            "backgroundcolor": "#E5ECF6",
            "gridcolor": "white",
            "gridwidth": 2,
            "linecolor": "white",
            "showbackground": true,
            "ticks": "",
            "zerolinecolor": "white"
           },
           "zaxis": {
            "backgroundcolor": "#E5ECF6",
            "gridcolor": "white",
            "gridwidth": 2,
            "linecolor": "white",
            "showbackground": true,
            "ticks": "",
            "zerolinecolor": "white"
           }
          },
          "shapedefaults": {
           "line": {
            "color": "#2a3f5f"
           }
          },
          "ternary": {
           "aaxis": {
            "gridcolor": "white",
            "linecolor": "white",
            "ticks": ""
           },
           "baxis": {
            "gridcolor": "white",
            "linecolor": "white",
            "ticks": ""
           },
           "bgcolor": "#E5ECF6",
           "caxis": {
            "gridcolor": "white",
            "linecolor": "white",
            "ticks": ""
           }
          },
          "title": {
           "x": 0.05
          },
          "xaxis": {
           "automargin": true,
           "gridcolor": "white",
           "linecolor": "white",
           "ticks": "",
           "title": {
            "standoff": 15
           },
           "zerolinecolor": "white",
           "zerolinewidth": 2
          },
          "yaxis": {
           "automargin": true,
           "gridcolor": "white",
           "linecolor": "white",
           "ticks": "",
           "title": {
            "standoff": 15
           },
           "zerolinecolor": "white",
           "zerolinewidth": 2
          }
         }
        },
        "xaxis": {
         "anchor": "y",
         "domain": [
          0,
          1
         ],
         "title": {
          "text": "x"
         }
        },
        "yaxis": {
         "anchor": "x",
         "domain": [
          0,
          1
         ],
         "title": {
          "text": "sum of y"
         }
        }
       }
      }
     },
     "metadata": {},
     "output_type": "display_data"
    }
   ],
   "source": [
    "# Изучение центральной предельной теоремы на Python\n",
    "# Выборочные средние равномерного распределения образуют нормальное распределение\n",
    "import random\n",
    "import plotly.express as px\n",
    "sample_size = 31\n",
    "sample_count = 1000\n",
    "# Центральная предельная теорема в действии:\n",
    "# 1000 выборок, в каждой из которых по 31 случайному значению\n",
    "# в диапазоне от 0 до 1\n",
    "x_values = [(sum([random.uniform(0.0, 1.0)\n",
    "        for i in range(sample_size)]) / sample_size)\n",
    "            for _ in range(sample_count)]\n",
    "y_values = [1 for _ in range(sample_count)]\n",
    "px.histogram(x=x_values, y = y_values, nbins=20).show()"
   ]
  },
  {
   "cell_type": "code",
   "execution_count": 11,
   "metadata": {},
   "outputs": [
    {
     "name": "stdout",
     "output_type": "stream",
     "text": [
      "(np.float64(63.68635915701992), np.float64(65.12964084298008))\n"
     ]
    }
   ],
   "source": [
    "# Вычисление доверительного интервала на Python\n",
    "from math import sqrt\n",
    "from scipy.stats import norm\n",
    "\n",
    "def critical_z_value(p):\n",
    "    norm_dist = norm(loc=0.0, scale=1.0)\n",
    "    left_tail_area = (1.0 - p) / 2.0\n",
    "    upper_area = 1.0 - ((1.0 - p) / 2.0)\n",
    "    return norm_dist.ppf(left_tail_area), norm_dist.ppf(upper_area)\n",
    "\n",
    "def confidence_interval(p, sample_mean, sample_std, n):\n",
    "    # Размер выборки должен быть больше 30\n",
    "    lower, upper = critical_z_value(p)\n",
    "    lower_ci = lower * (sample_std / sqrt(n))\n",
    "    upper_ci = upper * (sample_std / sqrt(n))\n",
    "    return sample_mean + lower_ci, sample_mean + upper_ci\n",
    "\n",
    "print(confidence_interval(p=.95, sample_mean=64.408, sample_std=2.05, n=31))\n",
    "# (63.68635915701992, 65.12964084298008)\n"
   ]
  }
 ],
 "metadata": {
  "kernelspec": {
   "display_name": "lessons",
   "language": "python",
   "name": "python3"
  },
  "language_info": {
   "codemirror_mode": {
    "name": "ipython",
    "version": 3
   },
   "file_extension": ".py",
   "mimetype": "text/x-python",
   "name": "python",
   "nbconvert_exporter": "python",
   "pygments_lexer": "ipython3",
   "version": "3.13.2"
  }
 },
 "nbformat": 4,
 "nbformat_minor": 2
}
