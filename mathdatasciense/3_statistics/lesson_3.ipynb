{
 "cells": [
  {
   "cell_type": "code",
   "execution_count": 1,
   "metadata": {},
   "outputs": [
    {
     "name": "stdout",
     "output_type": "stream",
     "text": [
      "2.875\n"
     ]
    }
   ],
   "source": [
    "# Вычисление среднего арифметического на Python\n",
    "# Количество домашних животных у каждого респондента\n",
    "sample = [1, 3, 2, 5, 7, 0, 2, 3]\n",
    "mean = sum(sample) / len(sample)\n",
    "print(mean) # выводит 2.875"
   ]
  },
  {
   "cell_type": "code",
   "execution_count": 2,
   "metadata": {},
   "outputs": [
    {
     "name": "stdout",
     "output_type": "stream",
     "text": [
      "81.4\n"
     ]
    }
   ],
   "source": [
    "# Вычисление среднего взвешенного на Python2\n",
    "# Три промежуточных экзамена с весом 0,20 и выпускной экзамен с весом 0,40\n",
    "sample = [90, 80, 63, 87]\n",
    "weights = [0.2, 0.2, 0.2, 0.4]\n",
    "weighted_mean = sum(s * w for s,w in zip(sample, weights)) / sum(weights)\n",
    "print(weighted_mean) # выводит 81.4"
   ]
  },
  {
   "cell_type": "code",
   "execution_count": 3,
   "metadata": {},
   "outputs": [
    {
     "name": "stdout",
     "output_type": "stream",
     "text": [
      "81.4\n"
     ]
    }
   ],
   "source": [
    " # Вычисление среднего взвешенного на Python\n",
    "# Три промежуточных экзамена с весом 1,0 и выпускной экзамен с весом 2,0\n",
    "sample = [90, 80, 63, 87]\n",
    "weights = [1.0, 1.0, 1.0, 2.0]\n",
    "weighted_mean = sum(s * w for s,w in zip(sample, weights)) / sum(weights)\n",
    "print(weighted_mean) # выводит 81.4"
   ]
  },
  {
   "cell_type": "code",
   "execution_count": 4,
   "metadata": {},
   "outputs": [
    {
     "name": "stdout",
     "output_type": "stream",
     "text": [
      "7\n"
     ]
    }
   ],
   "source": [
    "# Вычисление медианы на Python1\n",
    "# Количество домашних животных у каждого респондента\n",
    "sample = [0, 1, 5, 7, 9, 10, 14]\n",
    "def median(values):\n",
    "    ordered = sorted(values)\n",
    "    n = len(ordered)\n",
    "    mid = int(n / 2) - 1 if n % 2 == 0 else int(n/2)\n",
    "    if n % 2 == 0:\n",
    "        return (ordered[mid] + ordered[mid+1]) / 2.0\n",
    "    else:\n",
    "        return ordered[mid]\n",
    "    \n",
    "print(median(sample)) # выводит 7"
   ]
  },
  {
   "cell_type": "code",
   "execution_count": 7,
   "metadata": {},
   "outputs": [
    {
     "name": "stdout",
     "output_type": "stream",
     "text": [
      "defaultdict(<function mode.<locals>.<lambda> at 0x104c08680>, {})\n",
      "defaultdict(<function mode.<locals>.<lambda> at 0x104c08680>, {1: 1, 3: 2, 2: 2, 5: 1, 7: 1, 0: 1})\n",
      "2\n",
      "[2, 3]\n"
     ]
    }
   ],
   "source": [
    "# Вычисление моды на Python2\n",
    "from collections import defaultdict\n",
    "# Количество домашних животных у каждого респондента\n",
    "sample = [1, 3, 2, 5, 7, 0, 2, 3]\n",
    "def mode(values):\n",
    "    counts = defaultdict(lambda: 0)\n",
    "    print(counts)\n",
    "    for s in values:\n",
    "        counts[s] += 1\n",
    "    print(counts)\n",
    "    max_count = max(counts.values())\n",
    "    print(max_count)\n",
    "    modes = [v for v in set(values) if counts[v] == max_count]\n",
    "    return modes\n",
    "print(mode(sample)) # [2, 3]"
   ]
  },
  {
   "cell_type": "code",
   "execution_count": 8,
   "metadata": {},
   "outputs": [
    {
     "name": "stdout",
     "output_type": "stream",
     "text": [
      "21.387755102040817\n"
     ]
    }
   ],
   "source": [
    "# Вычисление дисперсии на Python\n",
    "# Количество домашних животных у каждого респондента\n",
    "data = [0, 1, 5, 7, 9, 10, 14]\n",
    "\n",
    "def variance(values):\n",
    "    mean = sum(values) / len(values)\n",
    "    _variance = sum((v - mean) ** 2 for v in values) / len(values)\n",
    "    return _variance\n",
    "print(variance(data)) # выводит 21.387755102040817"
   ]
  },
  {
   "cell_type": "code",
   "execution_count": 9,
   "metadata": {},
   "outputs": [
    {
     "name": "stdout",
     "output_type": "stream",
     "text": [
      "4.624689730353899\n"
     ]
    }
   ],
   "source": [
    "#Вычисление стандартного отклонения на Python1\n",
    "from math import sqrt\n",
    "# Количество домашних животных у каждого респондента\n",
    "data = [0, 1, 5, 7, 9, 10, 14]\n",
    "\n",
    "def variance(values):\n",
    "    mean = sum(values) / len(values)\n",
    "    _variance = sum((v - mean) ** 2 for v in values) / len(values)\n",
    "    return _variance\n",
    "\n",
    "def std_dev(values):\n",
    "    return sqrt(variance(values))\n",
    "\n",
    "print(std_dev(data)) # выводит 4.624689730353899"
   ]
  },
  {
   "cell_type": "code",
   "execution_count": 10,
   "metadata": {},
   "outputs": [
    {
     "name": "stdout",
     "output_type": "stream",
     "text": [
      "Дисперсия = 24.952380952380953\n",
      "Стандартное отклонение = 4.995235825502231\n"
     ]
    }
   ],
   "source": [
    "# Вычисление выборочного стандартного отклонения\n",
    "from math import sqrt\n",
    "# Количество домашних животных у каждого респондента\n",
    "data = [0, 1, 5, 7, 9, 10, 14]\n",
    "\n",
    "def variance(values, is_sample: bool = False):\n",
    "    mean = sum(values) / len(values)\n",
    "    _variance = sum((v - mean) ** 2 for v in values) /\\\n",
    "        (len(values) - (1 if is_sample else 0))\n",
    "    return _variance\n",
    "\n",
    "def std_dev(values, is_sample: bool = False):\n",
    "    return sqrt(variance(values, is_sample))\n",
    "\n",
    "print(f\"Дисперсия = {variance(data, is_sample=True)}\") # 24.952380952380953\n",
    "print(f\"Стандартное отклонение = {std_dev(data, is_sample=True)}\")\n",
    "# 4.995235825502231"
   ]
  },
  {
   "cell_type": "code",
   "execution_count": null,
   "metadata": {},
   "outputs": [],
   "source": [
    "# Функция нормального распределения на Python\n",
    "# нормальное распределение, возвращает правдоподобие\n",
    "import math\n",
    "\n",
    "def normal_pdf(x: float, mean: float, std_dev: float) -> float:\n",
    "    return (1.0 / (2.0 * math.pi * std_dev ** 2) ** 0.5) * \\\n",
    "        math.exp(-1.0 * ((x - mean) ** 2 / (2.0 * std_dev ** 2)))"
   ]
  },
  {
   "cell_type": "code",
   "execution_count": 11,
   "metadata": {},
   "outputs": [
    {
     "name": "stdout",
     "output_type": "stream",
     "text": [
      "0.5\n"
     ]
    }
   ],
   "source": [
    "# Функция нормального распределения на Python\n",
    "from scipy.stats import norm\n",
    "\n",
    "mean = 64.43 # среднее\n",
    "std_dev = 2.99 # стандартное отклонение\n",
    "x = norm.cdf(64.43, mean, std_dev)\n",
    "print(x) # выводит 0.5"
   ]
  },
  {
   "cell_type": "code",
   "execution_count": 12,
   "metadata": {},
   "outputs": [
    {
     "name": "stdout",
     "output_type": "stream",
     "text": [
      "0.4920450147062894\n"
     ]
    }
   ],
   "source": [
    "# Вычисление вероятности промежуточного интервала с помощью CDF\n",
    "from scipy.stats import norm\n",
    "mean = 64.43\n",
    "std_dev = 2.99\n",
    "x = norm.cdf(66, mean, std_dev) - norm.cdf(62, mean, std_dev)\n",
    "print(x) # выводит 0.4920450147062894"
   ]
  },
  {
   "cell_type": "code",
   "execution_count": 13,
   "metadata": {},
   "outputs": [
    {
     "name": "stdout",
     "output_type": "stream",
     "text": [
      "69.3481123445849\n"
     ]
    }
   ],
   "source": [
    "# Использование функции, обратной к функции распределения, на Python\n",
    "from scipy.stats import norm\n",
    "x = norm.ppf(.95, loc=64.43, scale=2.99)\n",
    "# первый аргумент 0.95 — вероятность\n",
    "# loc — среднее, scale — стандартное отклонение\n",
    "print(x) # 69.3481123445849"
   ]
  },
  {
   "cell_type": "code",
   "execution_count": 14,
   "metadata": {},
   "outputs": [
    {
     "name": "stdout",
     "output_type": "stream",
     "text": [
      "67.17811883266931\n",
      "67.72381956928866\n",
      "66.07847424909306\n",
      "69.77509915020343\n",
      "58.58890999125504\n",
      "63.37479407767604\n",
      "63.045753432100334\n",
      "63.57767881710823\n",
      "58.46294924124179\n",
      "65.19441127755556\n",
      "61.38776301600691\n",
      "64.00328769052346\n",
      "66.9360664969206\n",
      "66.10347126312313\n",
      "62.18091209655209\n",
      "67.56571481169152\n",
      "67.3195847519445\n",
      "66.16553925018054\n",
      "68.63086623759337\n",
      "64.55758664436185\n"
     ]
    }
   ],
   "source": [
    "#Генератор случайных чисел, которые соответствуют нормальному распределению\n",
    "import random\n",
    "from scipy.stats import norm\n",
    "for i in range(0, 20):\n",
    "    random_p = random.uniform(0.0, 1.0)\n",
    "    random_weight = norm.ppf(random_p, loc=64.43, scale=2.99)\n",
    "    print(random_weight)\n"
   ]
  },
  {
   "cell_type": "code",
   "execution_count": 15,
   "metadata": {},
   "outputs": [
    {
     "name": "stdout",
     "output_type": "stream",
     "text": [
      "Z-оценка: 3.3333333333333335\n",
      "Преобразование обратно в x: 150000.0\n"
     ]
    }
   ],
   "source": [
    "# Преобразование Z-оценки в значение x и обратно\n",
    "\n",
    "def z_score(x, mean, std):\n",
    "    return (x - mean) / std\n",
    "\n",
    "def z_to_x(z, mean, std):\n",
    "    return (z * std) + mean\n",
    "\n",
    "mean = 140_000\n",
    "std_dev = 3_000\n",
    "x = 150_000\n",
    "# Преобразование из x в Z-оценку и обратно\n",
    "z = z_score(x, mean, std_dev)\n",
    "back_to_x = z_to_x(z, mean, std_dev)\n",
    "print(f\"Z-оценка: {z}\") # Z-оценка: 3.333…\n",
    "print(f\"Преобразование обратно в x: {back_to_x}\") # X: 150000.0"
   ]
  }
 ],
 "metadata": {
  "kernelspec": {
   "display_name": "lessons",
   "language": "python",
   "name": "python3"
  },
  "language_info": {
   "codemirror_mode": {
    "name": "ipython",
    "version": 3
   },
   "file_extension": ".py",
   "mimetype": "text/x-python",
   "name": "python",
   "nbconvert_exporter": "python",
   "pygments_lexer": "ipython3",
   "version": "3.13.2"
  }
 },
 "nbformat": 4,
 "nbformat_minor": 2
}
