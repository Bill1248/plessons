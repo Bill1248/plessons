{
 "cells": [
  {
   "cell_type": "code",
   "execution_count": null,
   "metadata": {},
   "outputs": [],
   "source": [
    "day = int(input(\"Enter day of the month :\"))\n",
    "month = int(input(\"Enter a month :\"))\n",
    "print(f\"Now {day}.{month}\")"
   ]
  },
  {
   "cell_type": "code",
   "execution_count": 2,
   "metadata": {},
   "outputs": [
    {
     "name": "stdout",
     "output_type": "stream",
     "text": [
      "Age 22\n"
     ]
    }
   ],
   "source": [
    "year = int(input(\"Enter current year :\"))\n",
    "b_year = int(input(\"Enter a year of nithday :\"))\n",
    "print(f\"Age {year - b_year}\")"
   ]
  },
  {
   "cell_type": "code",
   "execution_count": 3,
   "metadata": {},
   "outputs": [
    {
     "name": "stdout",
     "output_type": "stream",
     "text": [
      "distantion 16.0 km\n"
     ]
    }
   ],
   "source": [
    "miles = int(input(\"Enter distantions(miles) :\"))\n",
    "print(f\"distantion {miles *1.6} km\")"
   ]
  },
  {
   "cell_type": "code",
   "execution_count": 2,
   "metadata": {},
   "outputs": [
    {
     "name": "stdout",
     "output_type": "stream",
     "text": [
      "1, 2, 4, 8, 16, 32, 64, 128, 256, 512, 1024, \n",
      "-------------------------\n",
      "[1, 2, 4, 8, 16, 32, 64, 128, 256, 512, 1024]\n",
      "[1024, 512, 256, 128, 64, 32, 16, 8, 4, 2, 1]\n",
      "[1024, 512, 256, 128, 64, 32, 16, 8, 4, 2, 1]\n",
      "1024,512,256,128,64,32,16,8,4,2,1,"
     ]
    }
   ],
   "source": [
    "exponent = 10\n",
    "for i in range(exponent+1):\n",
    "    print((2**i), end =\", \")\n",
    "\n",
    "print(\"\\n-------------------------\")\n",
    "\n",
    "l = [2**i for i in range(exponent + 1)]\n",
    "print(l)\n",
    "l_reversed = l.copy()\n",
    "l_reversed.reverse()\n",
    "print(f\"{l_reversed}\")\n",
    "print (l[::-1])\n",
    "for i in reversed(l):\n",
    "    print(i, end = \",\")"
   ]
  },
  {
   "cell_type": "code",
   "execution_count": 24,
   "metadata": {},
   "outputs": [
    {
     "name": "stdout",
     "output_type": "stream",
     "text": [
      "[3, 8, 13, 18, 23, 28, 33, 38, 43, 48, 53]\n",
      "[53, 48, 43, 38, 33, 28, 23, 18, 13, 8, 3]\n",
      "53,48,43,38,33,28,23,18,13,8,3,"
     ]
    }
   ],
   "source": [
    "exponent = 10\n",
    "l = [5*i+3 for i in range(exponent + 1)]\n",
    "print(l)\n",
    "print (l[::-1])\n",
    "for i in reversed(l):\n",
    "    print(i, end = \",\")\n"
   ]
  },
  {
   "cell_type": "code",
   "execution_count": 4,
   "metadata": {},
   "outputs": [
    {
     "name": "stdout",
     "output_type": "stream",
     "text": [
      "3,6,9,12,15,18,21,24,27,30,33,36,39,42,45,48,51,54,57,60,63,66,69,72,75,78,81,84,87,90,93,96,99,"
     ]
    }
   ],
   "source": [
    "numbers = [i for i in range(1,101)]\n",
    "for n in numbers:\n",
    "    if n % 3 == 0:\n",
    "        print(n, end = ',')"
   ]
  },
  {
   "cell_type": "code",
   "execution_count": 8,
   "metadata": {},
   "outputs": [
    {
     "name": "stdout",
     "output_type": "stream",
     "text": [
      "120\n"
     ]
    }
   ],
   "source": [
    "end = 6\n",
    "factorial = 1\n",
    "n = 1\n",
    "while n < end:\n",
    "    factorial *= n\n",
    "    n += 1\n",
    "print(factorial) "
   ]
  },
  {
   "cell_type": "code",
   "execution_count": 9,
   "metadata": {},
   "outputs": [
    {
     "name": "stdout",
     "output_type": "stream",
     "text": [
      "1, 1, 2, 3, 5, 8, 13, 21, 34, 55, 89, 144, 233, 377, 610, 987, 1597, 2584, 4181, 6765, "
     ]
    }
   ],
   "source": [
    "end = 20\n",
    "prev = 1\n",
    "prev2 = 1\n",
    "current = 1\n",
    "while current <= end:\n",
    "    f = prev + prev2\n",
    "    if current <=2:\n",
    "        f = 1\n",
    "        prev = 1\n",
    "        prev2 = 1\n",
    "    else:\n",
    "        prev2 = prev\n",
    "        prev = f\n",
    "    current += 1\n",
    "    print(f, end = ', ')"
   ]
  },
  {
   "cell_type": "code",
   "execution_count": null,
   "metadata": {},
   "outputs": [
    {
     "name": "stdout",
     "output_type": "stream",
     "text": [
      "101\n"
     ]
    }
   ],
   "source": [
    "def max2(l):\n",
    "    ls = sorted(l)\n",
    "    #ls.reverse()\n",
    "    #return ls[1]\n",
    "    return ls[-2]\n",
    "\n",
    "\n",
    "numbers = [x for x in range(1,102)]\n",
    "print(max2(numbers))\n"
   ]
  }
 ],
 "metadata": {
  "kernelspec": {
   "display_name": "Python 3",
   "language": "python",
   "name": "python3"
  },
  "language_info": {
   "codemirror_mode": {
    "name": "ipython",
    "version": 3
   },
   "file_extension": ".py",
   "mimetype": "text/x-python",
   "name": "python",
   "nbconvert_exporter": "python",
   "pygments_lexer": "ipython3",
   "version": "3.12.3"
  }
 },
 "nbformat": 4,
 "nbformat_minor": 2
}
