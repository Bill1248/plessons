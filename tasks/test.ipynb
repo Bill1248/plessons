{
 "cells": [
  {
   "cell_type": "code",
   "execution_count": null,
   "metadata": {},
   "outputs": [],
   "source": [
    "s = \" ,! abc .: \"\n",
    "print(f\"{s.strip()}\")\n",
    "print(f\"{s.strip(\" .,:;!?_\")}\")\n",
    "print(f\"{s.lstrip(\" .,:;!?_\")}\")\n",
    "print(f\"{s.rstrip(\" .,:;!?_\")}\")\n",
    "print(f\"{s.lstrip(\" ,!\")}\")\n",
    "print(f\"{s.rstrip(\" .:\")}\")\n"
   ]
  },
  {
   "cell_type": "code",
   "execution_count": null,
   "metadata": {},
   "outputs": [],
   "source": [
    "#help(str.strip)\n",
    "dir(str)"
   ]
  },
  {
   "cell_type": "code",
   "execution_count": null,
   "metadata": {},
   "outputs": [],
   "source": [
    "lambda_square = lambda x : x**2\n",
    "print(lambda_square(16))  # 256"
   ]
  },
  {
   "cell_type": "code",
   "execution_count": null,
   "metadata": {},
   "outputs": [],
   "source": [
    "# Применение лямбда-функции к функциям высш.порядка\n",
    "numbers = [1, 11, 12, 13, 18, 9, 8, 6]\n",
    "\n",
    "# Лямбда-функции и filter()\n",
    "\n",
    "print(f\"{list(filter(lambda x: x == 12, numbers))}\")\n",
    "new_list = list(filter(lambda x: x % 2, numbers))\n",
    "print(new_list) # [1, 11, 13, 9]"
   ]
  },
  {
   "cell_type": "code",
   "execution_count": null,
   "metadata": {},
   "outputs": [],
   "source": [
    "# Лямбда-функции и reduce()\n",
    "numbers = [1, 11, 12, 13, 18, 9, 8, 6]\n",
    "from functools import reduce \n",
    "total = reduce(lambda acc, cur : acc + cur, numbers)\n",
    "print(total) #1 + 11 + 12 + 13 + 18 + 9 + 8 + 6 = 78\n",
    "\n",
    "max_number = reduce(lambda x, y: x if x > y else y, numbers)\n",
    "print(max_number)  # Вывод: 5\n",
    "\n",
    "words = ['Hello', 'world', 'of', 'Python']\n",
    "sentence = reduce(lambda x, y: x + ' ' + y, words)\n",
    "print(sentence)  # Вывод: Hello world of Python\n",
    "\n",
    "def factorial(n):\n",
    "    return reduce(lambda x, y: x * y, range(1, n+1))\n",
    "\n",
    "print(factorial(5))  # Вывод: 120"
   ]
  },
  {
   "cell_type": "code",
   "execution_count": null,
   "metadata": {},
   "outputs": [],
   "source": [
    "from functools import reduce\n",
    "from collections import defaultdict\n",
    "\n",
    "dicts = [\n",
    "    {'a': 1, 'b': 2},\n",
    "    {'b': 3, 'c': 4},\n",
    "    {'a': 5}\n",
    "]\n",
    "\n",
    "def merge_dicts(dicts1):\n",
    "    result = defaultdict(list)\n",
    "    for d in dicts1:\n",
    "        for key, value in d.items():\n",
    "            result[key].append(value)\n",
    "    return dict(result)\n",
    "\n",
    "\n",
    "print(merge_dicts(dicts))\n",
    "merged_dict = reduce(merge_dicts, dicts)\n",
    "#print(merged_dict)  # Вывод: {'a': [1, 5], 'b': [2, 3], 'c': [4]}"
   ]
  },
  {
   "cell_type": "code",
   "execution_count": null,
   "metadata": {},
   "outputs": [],
   "source": [
    "from functools import reduce\n",
    "\n",
    "dicts = [\n",
    "    {\"a\": 1, \"b\": 2},\n",
    "    {\"b\": 3, \"c\": 4},\n",
    "    {\"d\": 5, \"a\": 6}\n",
    "]\n",
    "\n",
    "# Функция для слияния двух словарей\n",
    "result = reduce(lambda x, y: {**x, **y}, dicts)\n",
    "\n",
    "print(result)  # {'a': 6, 'b': 3, 'c': 4, 'd': 5}"
   ]
  },
  {
   "cell_type": "code",
   "execution_count": null,
   "metadata": {},
   "outputs": [],
   "source": [
    "from functools import reduce\n",
    "\n",
    "dicts = [\n",
    "    {\"a\": 1, \"b\": 2},\n",
    "    {\"b\": 3, \"c\": 4},\n",
    "    {\"d\": 5, \"a\": 6}\n",
    "]\n",
    "\n",
    "# Функция для слияния словарей с объединением значений в списки\n",
    "def merge_dicts(x, y):\n",
    "    merged = x.copy()  # Копируем первый словарь\n",
    "    for key, value in y.items():\n",
    "        if key in merged:\n",
    "            merged[key].append(value) if isinstance(merged[key], list) else merged.update({key: [merged[key], value]})\n",
    "        else:\n",
    "            merged[key] = [value]\n",
    "    return merged\n",
    "\n",
    "result = reduce(merge_dicts, dicts)\n",
    "\n",
    "print(result)  # {'a': [1, 6], 'b': [2, 3], 'c': [4], 'd': [5]}\n"
   ]
  },
  {
   "cell_type": "code",
   "execution_count": null,
   "metadata": {},
   "outputs": [],
   "source": [
    "users = [\n",
    "  { 'name': 'Igor', 'amount': 19 },\n",
    "  { 'name': 'Danil', 'amount': 1 },\n",
    "  { 'name': 'Ivan', 'amount': 4 },\n",
    "  { 'name': 'Matvey', 'amount': 16 },\n",
    "]\n",
    "\n",
    "total = reduce(lambda acc, user: acc + user['amount'], users, 0)\n",
    "# user: Igor, acc = 0, return value 0 + 19\n",
    "# user: Danil, acc = 19, return value 19 + 1\n",
    "# user: Ivan, acc = 20, return value 20 + 4\n",
    "# user: Matvey, acc = 24, return value 24 + 16\n",
    "print(total) #  40"
   ]
  },
  {
   "cell_type": "code",
   "execution_count": null,
   "metadata": {},
   "outputs": [],
   "source": [
    "dict1 = {\"A\": 10, \"B\": 20, \"C\": 30}\n",
    "dict2 = {\"X\": 100, \"Y\": 200, \"Z\": 300}\n",
    "\n",
    "dict3 = {**dict1, **dict2}\n",
    "print(dict3)\n"
   ]
  },
  {
   "cell_type": "code",
   "execution_count": 50,
   "metadata": {},
   "outputs": [
    {
     "name": "stdout",
     "output_type": "stream",
     "text": [
      "f(3) = 35\n"
     ]
    }
   ],
   "source": [
    "# :\n",
    "def A(h):\n",
    "    return lambda x: h(x)*h(7-x)\n",
    "@A\n",
    "def f(x):\n",
    "    return 2*x-1\n",
    "print(\"f(3) =\", f(3))\n",
    "\n",
    "def B(h):\n",
    "    return lambda x, y: h(x, y)+h(y, x)\n",
    "def C(h):\n",
    "    return lambda x: h(x,10-x)\n",
    "\n",
    "\n"
   ]
  },
  {
   "cell_type": "code",
   "execution_count": 8,
   "metadata": {},
   "outputs": [
    {
     "name": "stdout",
     "output_type": "stream",
     "text": [
      "[1, 2, 3, 5, 6, 7, 7, 8, 9, 9]\n",
      "[1, 2, 3, 5, 6, 7, 7, 8, 9, 9]\n"
     ]
    }
   ],
   "source": [
    "\n",
    "list1 = [1,3,5,7,9]\n",
    "list2 = [2,6,7,8,9]\n",
    "\n",
    "list  = sorted(list1 +list2)\n",
    "#sorted(list1).extend(sorted(list2))\n",
    "print(list)\n",
    "\n",
    "list1.extend(list2)\n",
    "list1.sort()\n",
    "print(list1)"
   ]
  },
  {
   "cell_type": "code",
   "execution_count": 14,
   "metadata": {},
   "outputs": [
    {
     "name": "stdout",
     "output_type": "stream",
     "text": [
      "[]\n"
     ]
    }
   ],
   "source": [
    "letters = ['a', 'b', 'c', 'd']\n",
    "print(letters[5:])"
   ]
  },
  {
   "cell_type": "code",
   "execution_count": 16,
   "metadata": {},
   "outputs": [
    {
     "name": "stdout",
     "output_type": "stream",
     "text": [
      "['t', 'e', 'p', 'i']\n",
      "python\n"
     ]
    }
   ],
   "source": [
    "x, *y, z = 'stepik'\n",
    "print(y)\n",
    "\n",
    "txt = 'python'\n",
    "for i in range(len(txt)):\n",
    "    txt[i].upper()\n",
    "print(txt)"
   ]
  },
  {
   "cell_type": "code",
   "execution_count": 17,
   "metadata": {},
   "outputs": [
    {
     "ename": "TypeError",
     "evalue": "'str' object does not support item assignment",
     "output_type": "error",
     "traceback": [
      "\u001b[0;31m---------------------------------------------------------------------------\u001b[0m",
      "\u001b[0;31mTypeError\u001b[0m                                 Traceback (most recent call last)",
      "Cell \u001b[0;32mIn[17], line 3\u001b[0m\n\u001b[1;32m      1\u001b[0m txt \u001b[38;5;241m=\u001b[39m \u001b[38;5;124m'\u001b[39m\u001b[38;5;124mpython\u001b[39m\u001b[38;5;124m'\u001b[39m\n\u001b[1;32m      2\u001b[0m \u001b[38;5;28;01mfor\u001b[39;00m i \u001b[38;5;129;01min\u001b[39;00m \u001b[38;5;28mrange\u001b[39m(\u001b[38;5;28mlen\u001b[39m(txt)):\n\u001b[0;32m----> 3\u001b[0m     \u001b[43mtxt\u001b[49m\u001b[43m[\u001b[49m\u001b[43mi\u001b[49m\u001b[43m]\u001b[49m \u001b[38;5;241m=\u001b[39m txt[i]\u001b[38;5;241m.\u001b[39mupper()\n\u001b[1;32m      4\u001b[0m \u001b[38;5;28mprint\u001b[39m(txt)\n",
      "\u001b[0;31mTypeError\u001b[0m: 'str' object does not support item assignment"
     ]
    }
   ],
   "source": [
    "txt = 'python'\n",
    "for i in range(len(txt)):\n",
    "    txt[i] = txt[i].upper()\n",
    "print(txt)"
   ]
  },
  {
   "cell_type": "code",
   "execution_count": null,
   "metadata": {},
   "outputs": [
    {
     "name": "stdout",
     "output_type": "stream",
     "text": [
      "beegeek\n",
      "None\n"
     ]
    },
    {
     "ename": "TypeError",
     "evalue": "'list' object is not callable",
     "output_type": "error",
     "traceback": [
      "\u001b[0;31m---------------------------------------------------------------------------\u001b[0m",
      "\u001b[0;31mTypeError\u001b[0m                                 Traceback (most recent call last)",
      "Cell \u001b[0;32mIn[31], line 6\u001b[0m\n\u001b[1;32m      4\u001b[0m list1 \u001b[38;5;241m=\u001b[39m [\u001b[38;5;241m1\u001b[39m,\u001b[38;5;241m3\u001b[39m,\u001b[38;5;241m5\u001b[39m,\u001b[38;5;241m7\u001b[39m,\u001b[38;5;241m9\u001b[39m]\n\u001b[1;32m      5\u001b[0m data \u001b[38;5;241m=\u001b[39m [\u001b[38;5;241m10\u001b[39m,\u001b[38;5;124m'\u001b[39m\u001b[38;5;124m5\u001b[39m\u001b[38;5;124m'\u001b[39m, \u001b[38;5;124m'\u001b[39m\u001b[38;5;124m'\u001b[39m, \u001b[38;5;241m0\u001b[39m, \u001b[38;5;28;01mNone\u001b[39;00m, \u001b[38;5;28;01mTrue\u001b[39;00m, \u001b[38;5;28;01mFalse\u001b[39;00m]\n\u001b[0;32m----> 6\u001b[0m result \u001b[38;5;241m=\u001b[39m \u001b[38;5;28;43mlist\u001b[39;49m\u001b[43m(\u001b[49m\u001b[38;5;28;43mfilter\u001b[39;49m\u001b[43m(\u001b[49m\u001b[38;5;28;43;01mlambda\u001b[39;49;00m\u001b[43m \u001b[49m\u001b[43mx\u001b[49m\u001b[43m \u001b[49m\u001b[43m:\u001b[49m\u001b[43m \u001b[49m\u001b[43mx\u001b[49m\u001b[43m \u001b[49m\u001b[38;5;241;43m==\u001b[39;49m\u001b[43m \u001b[49m\u001b[38;5;241;43m7\u001b[39;49m\u001b[43m,\u001b[49m\u001b[43m \u001b[49m\u001b[43mlist1\u001b[49m\u001b[43m)\u001b[49m\u001b[43m)\u001b[49m\n\u001b[1;32m      7\u001b[0m \u001b[38;5;28mprint\u001b[39m(result)\n",
      "\u001b[0;31mTypeError\u001b[0m: 'list' object is not callable"
     ]
    }
   ],
   "source": [
    "txt = 'python'\n",
    "print(print('beegeek'))\n",
    "\n"
   ]
  },
  {
   "cell_type": "code",
   "execution_count": 3,
   "metadata": {},
   "outputs": [
    {
     "name": "stdout",
     "output_type": "stream",
     "text": [
      "[10]\n"
     ]
    }
   ],
   "source": [
    "#list1 = [1,3,5,7,9]\n",
    "data = [10,'5', '', 0, None, True, False]\n",
    "result = list(filter(lambda x : x == 10, data))\n",
    "print(result)"
   ]
  },
  {
   "cell_type": "code",
   "execution_count": 1,
   "metadata": {},
   "outputs": [
    {
     "name": "stdout",
     "output_type": "stream",
     "text": [
      "[2, 4, 6, 8, 10]\n"
     ]
    }
   ],
   "source": [
    "numbers = [1, 2, 3, 4, 5, 6, 7, 8, 9, 10]\n",
    "\n",
    "even_numbers = list(filter(lambda x: x % 2 == 0, numbers))\n",
    "print(even_numbers)  # [2, 4, 6, 8, 10]"
   ]
  },
  {
   "cell_type": "code",
   "execution_count": 9,
   "metadata": {},
   "outputs": [
    {
     "name": "stdout",
     "output_type": "stream",
     "text": [
      "{1: 'beegeek'}\n"
     ]
    }
   ],
   "source": [
    "data = {}\n",
    "data[1] = 'stepik'\n",
    "data[True] = 'beegeek'\n",
    "print(data)"
   ]
  },
  {
   "cell_type": "code",
   "execution_count": 2,
   "metadata": {},
   "outputs": [
    {
     "name": "stdout",
     "output_type": "stream",
     "text": [
      "course\n"
     ]
    }
   ],
   "source": [
    "words = {'beegeek', 'stepik', 'python', 'course'}\n",
    "element = list(words)[0]  # Берём первый элемент\n",
    "print(element) \n",
    "\n",
    "#print(words[0])"
   ]
  },
  {
   "cell_type": "code",
   "execution_count": 6,
   "metadata": {},
   "outputs": [
    {
     "name": "stdout",
     "output_type": "stream",
     "text": [
      "[0, 1, 2, 4, 5, 6, 7, 9]\n",
      "None\n",
      "False\n",
      "True\n"
     ]
    }
   ],
   "source": [
    "numbers = [5, 9, 1, 2, 0, 7, 6, 4]\n",
    "sorted_numbers1 = sorted(numbers)\n",
    "sorted_numbers2 = numbers.sort()\n",
    "print(sorted_numbers1)\n",
    "print(sorted_numbers2)\n",
    "print(sorted_numbers1 == sorted_numbers2)\n",
    "print(numbers.sort() == sorted_numbers2)"
   ]
  },
  {
   "cell_type": "code",
   "execution_count": 7,
   "metadata": {},
   "outputs": [
    {
     "name": "stdout",
     "output_type": "stream",
     "text": [
      "['beegeek', 'y', 'e', 's', 'no']\n"
     ]
    }
   ],
   "source": [
    "data = ['beegeek']\n",
    "data.extend('yes')\n",
    "data.append('no')\n",
    "print(data)"
   ]
  },
  {
   "cell_type": "code",
   "execution_count": 8,
   "metadata": {},
   "outputs": [
    {
     "name": "stdout",
     "output_type": "stream",
     "text": [
      "[10]\n",
      "[10, 10]\n",
      "[10, 10, 10]\n"
     ]
    }
   ],
   "source": [
    "def func(data=[]):\n",
    "    data.append(10)\n",
    "    return data\n",
    "\n",
    "print(func())\n",
    "print(func())\n",
    "print(func())\n"
   ]
  },
  {
   "cell_type": "code",
   "execution_count": 9,
   "metadata": {},
   "outputs": [
    {
     "name": "stdout",
     "output_type": "stream",
     "text": [
      "[1, 2, 3]\n"
     ]
    }
   ],
   "source": [
    "data = [1, 2, 3]\n",
    "new_data = data * 1\n",
    "data[0] = 10\n",
    "print(new_data)"
   ]
  },
  {
   "cell_type": "code",
   "execution_count": 13,
   "metadata": {},
   "outputs": [
    {
     "name": "stdout",
     "output_type": "stream",
     "text": [
      "1 1\n",
      "2 3\n",
      "3 6\n",
      "4 10\n",
      "5 15\n",
      "6 21\n",
      "7 28\n",
      "7\n"
     ]
    }
   ],
   "source": [
    "def reachTarget(target):\n",
    "    target = abs(target)\n",
    "    position = 0\n",
    "    steps = 0\n",
    "    while position < target or (position - target) % 2 != 0:\n",
    "        steps += 1\n",
    "        position += steps\n",
    "        print(steps, position)\n",
    "    return steps\n",
    "\n",
    "print(reachTarget(12))\n"
   ]
  },
  {
   "cell_type": "code",
   "execution_count": 1,
   "metadata": {},
   "outputs": [
    {
     "name": "stdout",
     "output_type": "stream",
     "text": [
      "1 5 2\n"
     ]
    }
   ],
   "source": [
    "a = [1, 5, 2, 1, 1, 5]\n",
    "\n",
    "def f(items):\n",
    "    s = set()\n",
    "    for item in items:\n",
    "        if item not in s:\n",
    "            yield item\n",
    "            s.add(item)\n",
    "print(*f(a))\n"
   ]
  },
  {
   "cell_type": "code",
   "execution_count": 1,
   "metadata": {},
   "outputs": [
    {
     "name": "stdout",
     "output_type": "stream",
     "text": [
      "SGVsbG8sIHdvcmxkIQ==\n",
      "Hello, world!\n"
     ]
    }
   ],
   "source": [
    "import base64  \n",
    "\n",
    "message = b\"Hello, world!\"  \n",
    "\n",
    "# Кодируем в Base64  \n",
    "encoded = base64.b64encode(message)  \n",
    "print(encoded.decode())  # SGVsbG8sIHdvcmxkIQ==  \n",
    "\n",
    "# Декодируем обратно  \n",
    "decoded = base64.b64decode(encoded)  \n",
    "print(decoded.decode())  # Hello, world!\n"
   ]
  },
  {
   "cell_type": "code",
   "execution_count": 14,
   "metadata": {},
   "outputs": [
    {
     "name": "stdout",
     "output_type": "stream",
     "text": [
      "3\n",
      "6\n"
     ]
    }
   ],
   "source": [
    "def max_abs_index(list):\n",
    "    result = 0\n",
    "    max_len = 0\n",
    "    for i in range(0,len(list)) :\n",
    "        str_lenght =  len(str(abs(list[i])))\n",
    "        if  str_lenght > max_len :\n",
    "            max_len = str_lenght\n",
    "            result = i\n",
    "\n",
    "    return result\n",
    "\n",
    "print(max_abs_index([1, 2, 10, -100, 0, -45, 99]))  \n",
    "print(max_abs_index([1, 2, 10, 100, 0, 78, 1000]))  "
   ]
  },
  {
   "cell_type": "code",
   "execution_count": 25,
   "metadata": {},
   "outputs": [
    {
     "name": "stdout",
     "output_type": "stream",
     "text": [
      "1022\n"
     ]
    }
   ],
   "source": [
    "#f = open('numbers.txt')\n",
    "#l = f.readlines()\n",
    "l = \" \\\n",
    "1 2 3 \\\n",
    "4    5   6 \\\n",
    "    1001   \\\n",
    "\"\n",
    "sum = 0\n",
    "\n",
    "#for i in l:\n",
    "j = l.split(' ')\n",
    "for k in j:\n",
    "    if len(k.strip()) > 0 :\n",
    "        sum += int(k.strip())\n",
    "\n",
    "print(sum)"
   ]
  },
  {
   "cell_type": "code",
   "execution_count": 27,
   "metadata": {},
   "outputs": [
    {
     "name": "stdout",
     "output_type": "stream",
     "text": [
      "2.0\n",
      "2.0\n"
     ]
    }
   ],
   "source": [
    "def find_middle_number(a, b, c):\n",
    "    return (a + b + c)/3\n",
    "\n",
    "print(find_middle_number(1,2,3))\n",
    "print(find_middle_number(3, 1, 2))  "
   ]
  },
  {
   "cell_type": "code",
   "execution_count": 31,
   "metadata": {},
   "outputs": [
    {
     "name": "stdout",
     "output_type": "stream",
     "text": [
      "[3, 7, 2, 5, 6]\n",
      "[1, 2, 3, 4, 5, 6, 7, 8, 9]\n"
     ]
    }
   ],
   "source": [
    "def restore_values(list):\n",
    "    min_value = min(list)\n",
    "    add_value = int(min_value/2)\n",
    "    new_list = []\n",
    "    for i in list:\n",
    "        new_list.append(i - add_value)\n",
    "\n",
    "    return new_list\n",
    "\n",
    "print(restore_values([5, 9, 4, 7, 8]))  \n",
    "print(restore_values([2, 3, 4, 5, 6, 7, 8, 9, 10]))  "
   ]
  }
 ],
 "metadata": {
  "kernelspec": {
   "display_name": "Python 3",
   "language": "python",
   "name": "python3"
  },
  "language_info": {
   "codemirror_mode": {
    "name": "ipython",
    "version": 3
   },
   "file_extension": ".py",
   "mimetype": "text/x-python",
   "name": "python",
   "nbconvert_exporter": "python",
   "pygments_lexer": "ipython3",
   "version": "3.13.2"
  }
 },
 "nbformat": 4,
 "nbformat_minor": 2
}
