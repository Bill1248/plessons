{
 "cells": [
  {
   "cell_type": "code",
   "execution_count": 19,
   "metadata": {},
   "outputs": [
    {
     "name": "stdout",
     "output_type": "stream",
     "text": [
      "Весь список ->  [0, 1, 2, 3, 4, 5, 6, 7, 8, 9]\n",
      "С второго элемента до конца ->  [1, 2, 3, 4, 5, 6, 7, 8, 9]\n",
      "до 4 элемента ->  [0, 1, 2, 3]\n",
      "С третьего элемента до конца ->  [2, 3, 4, 5, 6, 7, 8, 9]\n",
      "С третьего элемента до конца с шагом 2 ->  [2, 4, 6, 8]\n",
      "Список с шагом [0, 2, 4, 6, 8]\n",
      "Список reverse [9, 8, 7, 6, 5, 4, 3, 2, 1, 0]\n",
      "С четвертого элемента до начала с шагом -1 [3, 2, 1, 0]\n",
      "Замена части списка [0, 11, 22, 3, 4, 5, 6, 7, 8, 9]\n",
      "удаление части списка [0, 11]\n",
      "удаление элемента списка [0]\n"
     ]
    }
   ],
   "source": [
    "# slices (срезы)\n",
    "l = [0,1,2,3,4,5,6,7,8,9]\n",
    "\n",
    "print(\"Весь список -> \", l[:])\n",
    "print(\"С второго элемента до конца -> \", l[1:])\n",
    "print(\"до 4 элемента -> \", l[:4])\n",
    "print(\"С третьего элемента до конца -> \", l[2:])\n",
    "print(\"С третьего элемента до конца с шагом 2 -> \", l[2::2])\n",
    "print(\"Список с шагом\", l[::2])\n",
    "print(\"Список reverse\", l[::-1])\n",
    "print(\"С четвертого элемента до начала с шагом -1\", l[3::-1])\n",
    "new_list = l[:]\n",
    "new_list[1:3] = [11, 22]\n",
    "print(\"Замена части списка\", new_list)\n",
    "del new_list[2:]\n",
    "print(\"удаление части списка\", new_list)\n",
    "new_list[1:2] = []\n",
    "print(\"удаление элемента списка\", new_list)\n"
   ]
  }
 ],
 "metadata": {
  "kernelspec": {
   "display_name": "Python 3",
   "language": "python",
   "name": "python3"
  },
  "language_info": {
   "codemirror_mode": {
    "name": "ipython",
    "version": 3
   },
   "file_extension": ".py",
   "mimetype": "text/x-python",
   "name": "python",
   "nbconvert_exporter": "python",
   "pygments_lexer": "ipython3",
   "version": "3.12.3"
  }
 },
 "nbformat": 4,
 "nbformat_minor": 2
}
