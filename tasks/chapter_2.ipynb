{
 "cells": [
  {
   "cell_type": "code",
   "execution_count": 1,
   "metadata": {},
   "outputs": [
    {
     "name": "stdout",
     "output_type": "stream",
     "text": [
      "Цифра 0 встречаеться 1 раз(а)\n",
      "Цифра 1 встречаеться 1 раз(а)\n",
      "Цифра 2 встречаеться 4 раз(а)\n"
     ]
    }
   ],
   "source": [
    "number = 122220 # int(input(\"Enter a digital number -> \"))\n",
    "\n",
    "digits = [0,0,0,0,0,0,0,0,0,0]\n",
    "while number > 0:\n",
    "    digit = number % 10\n",
    "    for i in range(10):\n",
    "        if digit == i:\n",
    "            digits[i] += 1\n",
    "    number = number // 10\n",
    "\n",
    "for i in range(10):\n",
    "    if digits[i] > 0:\n",
    "        print(f\"Цифра {i} встречаеться {digits[i]} раз(а)\")\n",
    "        \n"
   ]
  },
  {
   "cell_type": "code",
   "execution_count": 5,
   "metadata": {},
   "outputs": [
    {
     "name": "stdout",
     "output_type": "stream",
     "text": [
      "88889\n"
     ]
    }
   ],
   "source": [
    "number = 11110\n",
    "number_str = str(number)\n",
    "digits_list = list(number_str)\n",
    "k = 0\n",
    "for digit in digits_list:\n",
    "    digits_list[k] = 9 - int(digit)\n",
    "    k += 1 \n",
    "\n",
    "result = 0\n",
    "for i, digit in enumerate(reversed(digits_list)):\n",
    "    result += digit * 10**i\n",
    "\n",
    "print(result) \n"
   ]
  },
  {
   "cell_type": "code",
   "execution_count": 9,
   "metadata": {},
   "outputs": [
    {
     "name": "stdout",
     "output_type": "stream",
     "text": [
      "Result 12345678\n"
     ]
    }
   ],
   "source": [
    "numbers_list = [12,3,456,78]\n",
    "numbers_str = \"\"\n",
    "\n",
    "for s in numbers_list:\n",
    "    numbers_str += str(s)\n",
    "\n",
    "print(f\"Result {int(numbers_str)}\")\n"
   ]
  },
  {
   "cell_type": "code",
   "execution_count": 15,
   "metadata": {},
   "outputs": [
    {
     "name": "stdout",
     "output_type": "stream",
     "text": [
      "not equales\n"
     ]
    }
   ],
   "source": [
    "numbers_list1 = [1,3,4,8]\n",
    "numbers_list2 = [1,3,4,7]\n",
    "if len(numbers_list1) == len(numbers_list2):\n",
    "    for i in range(len(numbers_list1)):\n",
    "        if numbers_list1[i] != numbers_list2[i]:\n",
    "            print(\"not equales\")\n",
    "            break\n",
    "    else:\n",
    "        print(\"Equales\")\n",
    "\n",
    "else:\n",
    "    print(\"Lenghts not equales\")"
   ]
  },
  {
   "cell_type": "code",
   "execution_count": 23,
   "metadata": {},
   "outputs": [
    {
     "name": "stdout",
     "output_type": "stream",
     "text": [
      "Sum = 18\n"
     ]
    }
   ],
   "source": [
    "numbers_list = [1, 2, 3, 4, 8, 9]\n",
    "max = 10\n",
    "sum = 0\n",
    "for i in range(max):\n",
    "    for k in numbers_list:\n",
    "        if k == i:\n",
    "            break\n",
    "    else:\n",
    "        sum += i \n",
    "\n",
    "\n",
    "print(f\"Sum = {sum}\")"
   ]
  },
  {
   "cell_type": "code",
   "execution_count": 29,
   "metadata": {},
   "outputs": [
    {
     "name": "stdout",
     "output_type": "stream",
     "text": [
      "[19, 17, 3]\n",
      "Is trangle\n"
     ]
    }
   ],
   "source": [
    "a = 3\n",
    "b = 19\n",
    "c = 17\n",
    "side_list = [a,b,c]\n",
    "side_list.sort(reverse=True)\n",
    "print(side_list)\n",
    "\n",
    "if side_list[0] < side_list[1] + side_list[2]:\n",
    "    print(\"Is trangle\")\n",
    "else:\n",
    "    print(\"Not trangle\")\n",
    "\n"
   ]
  },
  {
   "cell_type": "code",
   "execution_count": 32,
   "metadata": {},
   "outputs": [
    {
     "name": "stdout",
     "output_type": "stream",
     "text": [
      "[2, 4, 6]\n",
      "Yes\n"
     ]
    }
   ],
   "source": [
    "a = 2\n",
    "b = 6\n",
    "c = 4\n",
    "subsequence = [a,b,c]\n",
    "subsequence.sort(reverse=False)\n",
    "print(subsequence)\n",
    "d = subsequence[1]  - subsequence[0]\n",
    "if d == subsequence[2]  - subsequence[1]:\n",
    "    print('Yes')\n",
    "else:\n",
    "    print('Not')\n"
   ]
  },
  {
   "cell_type": "code",
   "execution_count": 37,
   "metadata": {},
   "outputs": [
    {
     "name": "stdout",
     "output_type": "stream",
     "text": [
      "Среда\n",
      "Wednesday\n"
     ]
    }
   ],
   "source": [
    "day = 3\n",
    "\n",
    "if day == 1:\n",
    "    print(\"Понедельник\")\n",
    "elif day == 2:\n",
    "    print(\"Вторник\")\n",
    "elif day == 3:\n",
    "    print(\"Среда\")\n",
    "elif day == 4:\n",
    "    print(\"Четверг\")\n",
    "elif day == 5:\n",
    "    print(\"Пятница\")\n",
    "elif day == 6:\n",
    "    print(\"Субота\")\n",
    "elif day == 7:\n",
    "    print(\"Воскресенье\")\n",
    "else:\n",
    "    print(\"Not dfined\")\n",
    "\n",
    "if day == 1:\n",
    "    print(\"Monday\")\n",
    "elif day == 2:\n",
    "    print(\"Tuesday\")\n",
    "elif day == 3:\n",
    "    print(\"Wednesday\")\n",
    "elif day == 4:\n",
    "    print(\"Thursday\")\n",
    "elif day == 5:\n",
    "    print(\"Friday\")\n",
    "elif day == 6:\n",
    "    print(\"Saturday\")\n",
    "elif day == 7:\n",
    "    print(\"Sunday\")\n",
    "else:\n",
    "    print(\"Not dfined\")"
   ]
  },
  {
   "cell_type": "code",
   "execution_count": 43,
   "metadata": {},
   "outputs": [
    {
     "name": "stdout",
     "output_type": "stream",
     "text": [
      "Error\n"
     ]
    }
   ],
   "source": [
    "try:\n",
    "    a, b = eval(input(\"Enter two real numbers -> \"))\n",
    "    result = \"Greater than or equal to\" if a >= b else \"Less\"\n",
    "    print(result) \n",
    "except:\n",
    "    print(\"Error\")"
   ]
  },
  {
   "cell_type": "code",
   "execution_count": 53,
   "metadata": {},
   "outputs": [
    {
     "name": "stdout",
     "output_type": "stream",
     "text": [
      "Solution x = 0.0\n"
     ]
    }
   ],
   "source": [
    "# Ax = B – A – 1\n",
    "a = 4.0\n",
    "b = 5.0\n",
    "\n",
    "if a == 0 and b != 1:\n",
    "    print (\"There is no solution\")\n",
    "elif a == 0 and b == 1:\n",
    "    print (\"More solution\")\n",
    "else:\n",
    "    x = (b - a - 1) / a\n",
    "    print(f\"Solution x = {x}\")\n",
    "\n",
    "\n",
    "\n"
   ]
  }
 ],
 "metadata": {
  "kernelspec": {
   "display_name": "Python 3",
   "language": "python",
   "name": "python3"
  },
  "language_info": {
   "codemirror_mode": {
    "name": "ipython",
    "version": 3
   },
   "file_extension": ".py",
   "mimetype": "text/x-python",
   "name": "python",
   "nbconvert_exporter": "python",
   "pygments_lexer": "ipython3",
   "version": "3.12.3"
  }
 },
 "nbformat": 4,
 "nbformat_minor": 2
}
