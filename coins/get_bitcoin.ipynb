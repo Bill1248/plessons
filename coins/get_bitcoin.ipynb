{
 "cells": [
  {
   "cell_type": "code",
   "execution_count": 3,
   "metadata": {},
   "outputs": [
    {
     "name": "stdout",
     "output_type": "stream",
     "text": [
      "{'bitcoin': {'usd': 98334}}\n",
      "Текущая цена биткоина: $98334\n"
     ]
    }
   ],
   "source": [
    "import requests\n",
    "\n",
    "def get_bitcoin_price():\n",
    "    url = 'https://api.coingecko.com/api/v3/simple/price?ids=bitcoin&vs_currencies=usd'\n",
    "    try:\n",
    "        response = requests.get(url)\n",
    "        response.raise_for_status()  # Проверка на успешный ответ от сервера\n",
    "        data = response.json()\n",
    "        print(data)\n",
    "        return data['bitcoin']['usd']\n",
    "    except requests.RequestException as e:\n",
    "        print(f\"Ошибка при получении данных: {e}\")\n",
    "        return None\n",
    "\n",
    "price = get_bitcoin_price()\n",
    "if price:\n",
    "    print(f\"Текущая цена биткоина: ${price}\")\n",
    "else:\n",
    "    print(\"Не удалось получить цену биткоина.\")\n"
   ]
  }
 ],
 "metadata": {
  "kernelspec": {
   "display_name": "Python 3",
   "language": "python",
   "name": "python3"
  },
  "language_info": {
   "codemirror_mode": {
    "name": "ipython",
    "version": 3
   },
   "file_extension": ".py",
   "mimetype": "text/x-python",
   "name": "python",
   "nbconvert_exporter": "python",
   "pygments_lexer": "ipython3",
   "version": "3.13.2"
  }
 },
 "nbformat": 4,
 "nbformat_minor": 2
}
