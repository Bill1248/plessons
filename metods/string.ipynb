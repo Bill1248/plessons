{
 "cells": [
  {
   "cell_type": "code",
   "execution_count": null,
   "metadata": {},
   "outputs": [],
   "source": [
    "dir(str)\n",
    "#help(str.strip)"
   ]
  },
  {
   "cell_type": "code",
   "execution_count": null,
   "metadata": {},
   "outputs": [],
   "source": [
    "# STRIP\n",
    "s = \" ,! abc .: \"\n",
    "print(f\"{s.strip()}\")\n",
    "print(f\"{s.strip(\" .,:;!?_\")}\")\n",
    "print(f\"{s.lstrip(\" .,:;!?_\")}\")\n",
    "print(f\"{s.rstrip(\" .,:;!?_\")}\")\n",
    "print(f\"{s.lstrip(\" ,!\")}\")\n",
    "print(f\"{s.rstrip(\" .:\")}\")\n"
   ]
  }
 ],
 "metadata": {
  "kernelspec": {
   "display_name": "Python 3",
   "language": "python",
   "name": "python3"
  },
  "language_info": {
   "codemirror_mode": {
    "name": "ipython",
    "version": 3
   },
   "file_extension": ".py",
   "mimetype": "text/x-python",
   "name": "python",
   "nbconvert_exporter": "python",
   "pygments_lexer": "ipython3",
   "version": "3.12.3"
  }
 },
 "nbformat": 4,
 "nbformat_minor": 2
}
