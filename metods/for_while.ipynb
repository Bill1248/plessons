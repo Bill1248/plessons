{
 "cells": [
  {
   "cell_type": "code",
   "execution_count": 1,
   "metadata": {},
   "outputs": [
    {
     "name": "stdout",
     "output_type": "stream",
     "text": [
      "яблоко\n",
      "банан\n",
      "вишня\n"
     ]
    }
   ],
   "source": [
    "# FOR\n",
    "\n",
    "# перебор списка\n",
    "fruits = [\"яблоко\", \"банан\", \"вишня\"]\n",
    "for fruit in fruits:\n",
    "    print(fruit)\n"
   ]
  },
  {
   "cell_type": "code",
   "execution_count": 4,
   "metadata": {},
   "outputs": [
    {
     "name": "stdout",
     "output_type": "stream",
     "text": [
      "0 1 2 3 4 "
     ]
    }
   ],
   "source": [
    "# перебор с range()\n",
    "for i in range(5):  # От 0 до 4\n",
    "    print(i, end = \" \")\n"
   ]
  },
  {
   "cell_type": "code",
   "execution_count": 5,
   "metadata": {},
   "outputs": [
    {
     "name": "stdout",
     "output_type": "stream",
     "text": [
      "имя: Алиса\n",
      "возраст: 25\n"
     ]
    }
   ],
   "source": [
    "# перебор словаря\n",
    "\n",
    "person = {\"имя\": \"Алиса\", \"возраст\": 25}\n",
    "for key, value in person.items():\n",
    "    print(f\"{key}: {value}\")\n"
   ]
  },
  {
   "cell_type": "code",
   "execution_count": 7,
   "metadata": {},
   "outputs": [
    {
     "name": "stdout",
     "output_type": "stream",
     "text": [
      "x = 5, x = 4, x = 3, x = 2, x = 1, "
     ]
    }
   ],
   "source": [
    "# WHILE\n",
    "\n",
    "x = 5\n",
    "while x > 0:\n",
    "    print(f\"x = {x}\", end = \", \")\n",
    "    x -= 1  # Уменьшаем x\n"
   ]
  },
  {
   "cell_type": "code",
   "execution_count": 5,
   "metadata": {},
   "outputs": [
    {
     "name": "stdout",
     "output_type": "stream",
     "text": [
      "0, 1, 2, 3, 4, \n",
      "0, 1, 2, 3, 4, 6, "
     ]
    }
   ],
   "source": [
    "# BREAK, CONTINUE\n",
    "\n",
    "\n",
    "# break – выход из цикла при достижении 5\n",
    "for i in range(10):\n",
    "    if i == 5:\n",
    "        break\n",
    "    print(i, end = \", \")  # Выведет 0,1,2,3,4\n",
    "\n",
    "print()\n",
    "# continue – пропускает 5\n",
    "for i in range(7):\n",
    "    if i == 5:\n",
    "        continue\n",
    "    print(i, end = \", \")  # Выведет 0,1,2,3,4,6\n",
    "\n",
    "# pass – заглушка\n",
    "for i in range(3):\n",
    "    pass  # Код пока не написан\n"
   ]
  },
  {
   "cell_type": "code",
   "execution_count": null,
   "metadata": {},
   "outputs": [],
   "source": [
    "# FOR ELSE\n",
    "\n",
    "\n",
    "for i in range(3):\n",
    "    print(i)\n",
    "else:\n",
    "    print(\"Цикл завершился без break\")\n",
    "\n",
    "# 0\n",
    "# 1\n",
    "# 2\n",
    "# Цикл завершился без break\n"
   ]
  },
  {
   "cell_type": "code",
   "execution_count": null,
   "metadata": {},
   "outputs": [],
   "source": [
    "# WHILE ELSE\n",
    "\n",
    "x = 3\n",
    "while x > 0:\n",
    "    print(x)\n",
    "    x -= 1\n",
    "else:\n",
    "    print(\"Цикл while завершен\")\n",
    "\n",
    "# 3\n",
    "# 2\n",
    "# 1\n",
    "# Цикл while завершен\n"
   ]
  }
 ],
 "metadata": {
  "kernelspec": {
   "display_name": "Python 3",
   "language": "python",
   "name": "python3"
  },
  "language_info": {
   "codemirror_mode": {
    "name": "ipython",
    "version": 3
   },
   "file_extension": ".py",
   "mimetype": "text/x-python",
   "name": "python",
   "nbconvert_exporter": "python",
   "pygments_lexer": "ipython3",
   "version": "3.13.2"
  }
 },
 "nbformat": 4,
 "nbformat_minor": 2
}
