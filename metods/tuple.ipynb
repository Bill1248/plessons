{
 "cells": [
  {
   "cell_type": "code",
   "execution_count": null,
   "metadata": {},
   "outputs": [],
   "source": [
    "\n",
    "empty_tuple = ()  # Пустой кортеж\n",
    "single_element_tuple = (42,)  # Кортеж с одним элементом\n",
    "multiple_elements_tuple = (1, 2, 3)  # Кортеж с несколькими элементами\n",
    "\n",
    "\n",
    "another_tuple = 4, 5, 6\n"
   ]
  }
 ],
 "metadata": {
  "language_info": {
   "name": "python"
  }
 },
 "nbformat": 4,
 "nbformat_minor": 2
}
