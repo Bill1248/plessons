{
 "cells": [
  {
   "cell_type": "code",
   "execution_count": 1,
   "metadata": {},
   "outputs": [
    {
     "name": "stdout",
     "output_type": "stream",
     "text": [
      "Part A, Part B\n"
     ]
    }
   ],
   "source": [
    "# Паттерн Builder\n",
    "\n",
    "class Product:\n",
    "    def __init__(self):\n",
    "        self.parts = []\n",
    "\n",
    "    def add(self, part):\n",
    "        self.parts.append(part)\n",
    "\n",
    "    def show(self):\n",
    "        return ', '.join(self.parts)\n",
    "\n",
    "class Builder:\n",
    "    def __init__(self):\n",
    "        self.product = Product()\n",
    "\n",
    "    def build_part_a(self):\n",
    "        self.product.add(\"Part A\")\n",
    "\n",
    "    def build_part_b(self):\n",
    "        self.product.add(\"Part B\")\n",
    "\n",
    "    def get_result(self):\n",
    "        return self.product\n",
    "\n",
    "# Пример использования\n",
    "builder = Builder()\n",
    "builder.build_part_a()\n",
    "builder.build_part_b()\n",
    "product = builder.get_result()\n",
    "print(product.show())  # Вывод: Part A, Part B\n"
   ]
  }
 ],
 "metadata": {
  "kernelspec": {
   "display_name": "Python 3",
   "language": "python",
   "name": "python3"
  },
  "language_info": {
   "codemirror_mode": {
    "name": "ipython",
    "version": 3
   },
   "file_extension": ".py",
   "mimetype": "text/x-python",
   "name": "python",
   "nbconvert_exporter": "python",
   "pygments_lexer": "ipython3",
   "version": "3.13.2"
  }
 },
 "nbformat": 4,
 "nbformat_minor": 2
}
