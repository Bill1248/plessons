{
 "cells": [
  {
   "cell_type": "code",
   "execution_count": 1,
   "metadata": {},
   "outputs": [
    {
     "name": "stdout",
     "output_type": "stream",
     "text": [
      "Ошибка! Деление на ноль невозможно.\n"
     ]
    }
   ],
   "source": [
    "# EXCEPTION\n",
    "try:\n",
    "    x = 10 / 0  # Ошибка: деление на ноль\n",
    "except ZeroDivisionError:\n",
    "    print(\"Ошибка! Деление на ноль невозможно.\")\n"
   ]
  },
  {
   "cell_type": "code",
   "execution_count": 3,
   "metadata": {},
   "outputs": [
    {
     "name": "stdout",
     "output_type": "stream",
     "text": [
      "Ошибка! Введите число.\n"
     ]
    }
   ],
   "source": [
    "# Обработка нескольких типов исключений  \n",
    "try:\n",
    "    num = int(input(\"Введите число: \"))  # Возможна ошибка ValueError\n",
    "    result = 10 / num  # Возможна ошибка ZeroDivisionError\n",
    "except ZeroDivisionError:\n",
    "    print(\"Ошибка! Деление на ноль.\")\n",
    "except ValueError:\n",
    "    print(\"Ошибка! Введите число.\")\n"
   ]
  },
  {
   "cell_type": "code",
   "execution_count": 4,
   "metadata": {},
   "outputs": [
    {
     "name": "stdout",
     "output_type": "stream",
     "text": [
      "Файл не найден!\n",
      "Программа завершена.\n"
     ]
    }
   ],
   "source": [
    "# FINALY Использование finally (код, который выполняется всегда)  \n",
    "\n",
    "try:\n",
    "    file = open(\"data.txt\", \"r\")  # Возможна ошибка FileNotFoundError\n",
    "    content = file.read()\n",
    "except FileNotFoundError:\n",
    "    print(\"Файл не найден!\")\n",
    "finally:\n",
    "    print(\"Программа завершена.\")  # Выполнится в любом случае\n"
   ]
  }
 ],
 "metadata": {
  "kernelspec": {
   "display_name": "Python 3",
   "language": "python",
   "name": "python3"
  },
  "language_info": {
   "codemirror_mode": {
    "name": "ipython",
    "version": 3
   },
   "file_extension": ".py",
   "mimetype": "text/x-python",
   "name": "python",
   "nbconvert_exporter": "python",
   "pygments_lexer": "ipython3",
   "version": "3.13.2"
  }
 },
 "nbformat": 4,
 "nbformat_minor": 2
}
