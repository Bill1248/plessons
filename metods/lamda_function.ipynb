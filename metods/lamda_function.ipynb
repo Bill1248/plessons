{
 "cells": [
  {
   "cell_type": "code",
   "execution_count": null,
   "metadata": {},
   "outputs": [],
   "source": [
    "lambda_square = lambda x : x**2\n",
    "print(lambda_square(16))  # 256"
   ]
  },
  {
   "cell_type": "code",
   "execution_count": null,
   "metadata": {},
   "outputs": [],
   "source": [
    "# Применение лямбда-функции к функциям высш.порядка\n",
    "numbers = [1, 11, 12, 13, 18, 9, 8, 6]\n",
    "\n",
    "# Лямбда-функции и filter()\n",
    "\n",
    "print(f\"{list(filter(lambda x: x == 12, numbers))}\")\n",
    "new_list = list(filter(lambda x: x % 2, numbers))\n",
    "print(new_list) # [1, 11, 13, 9]"
   ]
  },
  {
   "cell_type": "code",
   "execution_count": null,
   "metadata": {},
   "outputs": [],
   "source": [
    "# Лямбда-функции и reduce()\n",
    "numbers = [1, 11, 12, 13, 18, 9, 8, 6]\n",
    "from functools import reduce \n",
    "total = reduce(lambda acc, cur : acc + cur, numbers)\n",
    "print(total) #1 + 11 + 12 + 13 + 18 + 9 + 8 + 6 = 78\n",
    "\n",
    "max_number = reduce(lambda x, y: x if x > y else y, numbers)\n",
    "print(max_number)  # Вывод: 5\n",
    "\n",
    "words = ['Hello', 'world', 'of', 'Python']\n",
    "sentence = reduce(lambda x, y: x + ' ' + y, words)\n",
    "print(sentence)  # Вывод: Hello world of Python\n",
    "\n",
    "def factorial(n):\n",
    "    return reduce(lambda x, y: x * y, range(1, n+1))\n",
    "\n",
    "print(factorial(5))  # Вывод: 120"
   ]
  },
  {
   "cell_type": "code",
   "execution_count": null,
   "metadata": {},
   "outputs": [],
   "source": [
    "from functools import reduce\n",
    "from collections import defaultdict\n",
    "\n",
    "dicts = [\n",
    "    {'a': 1, 'b': 2},\n",
    "    {'b': 3, 'c': 4},\n",
    "    {'a': 5}\n",
    "]\n",
    "\n",
    "def merge_dicts(dicts1):\n",
    "    result = defaultdict(list)\n",
    "    for d in dicts1:\n",
    "        for key, value in d.items():\n",
    "            result[key].append(value)\n",
    "    return dict(result)\n",
    "\n",
    "\n",
    "print(merge_dicts(dicts))\n",
    "merged_dict = reduce(merge_dicts, dicts)\n",
    "#print(merged_dict)  # Вывод: {'a': [1, 5], 'b': [2, 3], 'c': [4]}"
   ]
  },
  {
   "cell_type": "code",
   "execution_count": null,
   "metadata": {},
   "outputs": [],
   "source": [
    "from functools import reduce\n",
    "\n",
    "dicts = [\n",
    "    {\"a\": 1, \"b\": 2},\n",
    "    {\"b\": 3, \"c\": 4},\n",
    "    {\"d\": 5, \"a\": 6}\n",
    "]\n",
    "\n",
    "# Функция для слияния двух словарей\n",
    "result = reduce(lambda x, y: {**x, **y}, dicts)\n",
    "\n",
    "print(result)  # {'a': 6, 'b': 3, 'c': 4, 'd': 5}"
   ]
  },
  {
   "cell_type": "code",
   "execution_count": null,
   "metadata": {},
   "outputs": [],
   "source": [
    "from functools import reduce\n",
    "\n",
    "dicts = [\n",
    "    {\"a\": 1, \"b\": 2},\n",
    "    {\"b\": 3, \"c\": 4},\n",
    "    {\"d\": 5, \"a\": 6}\n",
    "]\n",
    "\n",
    "# Функция для слияния словарей с объединением значений в списки\n",
    "def merge_dicts(x, y):\n",
    "    merged = x.copy()  # Копируем первый словарь\n",
    "    for key, value in y.items():\n",
    "        if key in merged:\n",
    "            merged[key].append(value) if isinstance(merged[key], list) else merged.update({key: [merged[key], value]})\n",
    "        else:\n",
    "            merged[key] = [value]\n",
    "    return merged\n",
    "\n",
    "result = reduce(merge_dicts, dicts)\n",
    "\n",
    "print(result)  # {'a': [1, 6], 'b': [2, 3], 'c': [4], 'd': [5]}"
   ]
  },
  {
   "cell_type": "code",
   "execution_count": 6,
   "metadata": {},
   "outputs": [
    {
     "name": "stdout",
     "output_type": "stream",
     "text": [
      "40\n"
     ]
    }
   ],
   "source": [
    "users = [\n",
    "  { 'name': 'Igor', 'amount': 19 },\n",
    "  { 'name': 'Danil', 'amount': 1 },\n",
    "  { 'name': 'Ivan', 'amount': 4 },\n",
    "  { 'name': 'Matvey', 'amount': 16 },\n",
    "]\n",
    "\n",
    "total = reduce(lambda acc, user: acc + user['amount'], users, 0)\n",
    "# user: Igor, acc = 0, return value 0 + 19\n",
    "# user: Danil, acc = 19, return value 19 + 1\n",
    "# user: Ivan, acc = 20, return value 20 + 4\n",
    "# user: Matvey, acc = 24, return value 24 + 16\n",
    "print(total) #  40"
   ]
  }
 ],
 "metadata": {
  "kernelspec": {
   "display_name": "Python 3",
   "language": "python",
   "name": "python3"
  },
  "language_info": {
   "codemirror_mode": {
    "name": "ipython",
    "version": 3
   },
   "file_extension": ".py",
   "mimetype": "text/x-python",
   "name": "python",
   "nbconvert_exporter": "python",
   "pygments_lexer": "ipython3",
   "version": "3.12.3"
  }
 },
 "nbformat": 4,
 "nbformat_minor": 2
}
