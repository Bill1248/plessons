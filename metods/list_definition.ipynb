{
 "cells": [
  {
   "cell_type": "code",
   "execution_count": 2,
   "metadata": {},
   "outputs": [
    {
     "name": "stdout",
     "output_type": "stream",
     "text": [
      "[0, 1, 2, 3, 4, 5, 6, 7, 8, 9]\n",
      "[1, 2, 3, 4, 5, 6, 7, 8, 9]\n",
      "[0, 5, 10, 15, 20, 25, 30, 35, 40, 45, 50, 55, 60, 65, 70, 75, 80, 85, 90, 95]\n"
     ]
    }
   ],
   "source": [
    "#range\n",
    "print(list(range(10)))\n",
    "print(list(range(1,10)))\n",
    "print(list(range(0,100, 5)))"
   ]
  },
  {
   "cell_type": "code",
   "execution_count": 8,
   "metadata": {},
   "outputs": [
    {
     "name": "stdout",
     "output_type": "stream",
     "text": [
      "[9, 8, 7, 6, 5, 4, 3, 2, 1, 0]\n"
     ]
    }
   ],
   "source": [
    "#reversed\n",
    "print(list(reversed(list(range(10)))))"
   ]
  },
  {
   "cell_type": "code",
   "execution_count": 1,
   "metadata": {},
   "outputs": [
    {
     "name": "stdout",
     "output_type": "stream",
     "text": [
      "Alice scored 85\n",
      "Bob scored 90\n",
      "Charlie scored 78\n"
     ]
    }
   ],
   "source": [
    "# ZIP\n",
    "\n",
    "\n",
    "names = [\"Alice\", \"Bob\", \"Charlie\"]\n",
    "scores = [85, 90, 78]\n",
    "\n",
    "for name, score in zip(names, scores):\n",
    "    print(f\"{name} scored {score}\")\n"
   ]
  },
  {
   "cell_type": "code",
   "execution_count": 1,
   "metadata": {},
   "outputs": [],
   "source": [
    "# COPY\n",
    "\n",
    "# Использование метода list.copy():\n",
    "original_list = [1, 2, 3]\n",
    "copied_list = original_list.copy()\n",
    "# Создает поверхностную копию списка\n",
    "\n",
    "# Использование срезов:\n",
    "original_list = [1, 2, 3]\n",
    "copied_list = original_list[:]\n",
    "# Создает поверхностную копию списка\n",
    "\n",
    "# Использование функции list():\n",
    "original_list = [1, 2, 3]\n",
    "copied_list = list(original_list)\n",
    "# Создает поверхностную копию списка\n"
   ]
  },
  {
   "cell_type": "code",
   "execution_count": 1,
   "metadata": {},
   "outputs": [
    {
     "name": "stdout",
     "output_type": "stream",
     "text": [
      "Сегодня стоит посмотреть: 🎬 Inception\n"
     ]
    }
   ],
   "source": [
    "# Случайный выбор из списка с random.choice()\n",
    "\n",
    "import random\n",
    "\n",
    "movies = [\"🎬 Inception\", \"🎥 Interstellar\", \"📽 The Matrix\", \"🎞 The Dark Knight\"]\n",
    "\n",
    "random_movie = random.choice(movies)\n",
    "\n",
    "print(f\"Сегодня стоит посмотреть: {random_movie}\")\n"
   ]
  },
  {
   "cell_type": "code",
   "execution_count": 2,
   "metadata": {},
   "outputs": [
    {
     "name": "stdout",
     "output_type": "stream",
     "text": [
      "[1, 1, 3, 4, 5, 9]\n",
      "['apple', 'banana', 'cherry']\n"
     ]
    }
   ],
   "source": [
    "# SORTED\n",
    "\n",
    "\n",
    "numbers = [3, 1, 4, 1, 5, 9]\n",
    "\n",
    "# Сортировка по возрастанию\n",
    "sorted_numbers = sorted(numbers)\n",
    "\n",
    "# Сортировка по убыванию\n",
    "sorted_numbers_desc = sorted(numbers, reverse=True)\n",
    "print(sorted_numbers)\n",
    "\n",
    "# Сортировка строк по длине\n",
    "words = [\"apple\", \"banana\", \"cherry\"]\n",
    "sorted_words = sorted(words, key=len)\n",
    "print(sorted_words)\n"
   ]
  }
 ],
 "metadata": {
  "kernelspec": {
   "display_name": "Python 3",
   "language": "python",
   "name": "python3"
  },
  "language_info": {
   "codemirror_mode": {
    "name": "ipython",
    "version": 3
   },
   "file_extension": ".py",
   "mimetype": "text/x-python",
   "name": "python",
   "nbconvert_exporter": "python",
   "pygments_lexer": "ipython3",
   "version": "3.13.2"
  }
 },
 "nbformat": 4,
 "nbformat_minor": 2
}
