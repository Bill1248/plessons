{
 "cells": [
  {
   "cell_type": "code",
   "execution_count": null,
   "metadata": {},
   "outputs": [],
   "source": [
    "# Паттерн Facade предоставляет упрощённый интерфейс к сложной системе классов. \n",
    "# Реализуется через класс-обёртку, который инкапсулирует взаимодействие с подсистемами.  \n",
    "\n",
    "class SubsystemA:\n",
    "    def operation_a(self):\n",
    "        return \"Subsystem A\"\n",
    "\n",
    "class Facade:\n",
    "    def __init__(self):\n",
    "        self._subsystem_a = SubsystemA()\n",
    "\n",
    "    def operation(self):\n",
    "        return f\"Facade: {self._subsystem_a.operation_a()}\"\n"
   ]
  }
 ],
 "metadata": {
  "language_info": {
   "name": "python"
  }
 },
 "nbformat": 4,
 "nbformat_minor": 2
}
