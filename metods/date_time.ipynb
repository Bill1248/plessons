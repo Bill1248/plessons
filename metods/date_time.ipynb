{
 "cells": [
  {
   "cell_type": "code",
   "execution_count": 10,
   "metadata": {},
   "outputs": [
    {
     "name": "stdout",
     "output_type": "stream",
     "text": [
      "time1 12:56:45 12:56:45\n",
      "12 - 56 45 , 0 | 00:00:00 -> 23:59:59.999999\n",
      "newtime 17:56:11 17:56:11\n",
      "12:34:56\n"
     ]
    }
   ],
   "source": [
    "# Time\n",
    "from datetime import time\n",
    "\n",
    "time1 = time(12,56,45)\n",
    "print(\"time1\",time1, time1.isoformat())\n",
    "print(time1.hour, \"-\", time1.minute, time1.second, \",\", time1.microsecond,\"|\", time1.min, \"->\", time1.max)\n",
    "newtime = time1.replace(hour=17, second=11)\n",
    "print(\"newtime\",newtime, newtime.isoformat())\n",
    "mytime=time.fromisoformat(\"12:34:56\")\n",
    "print(mytime)"
   ]
  },
  {
   "cell_type": "code",
   "execution_count": 18,
   "metadata": {},
   "outputs": [
    {
     "name": "stdout",
     "output_type": "stream",
     "text": [
      "2019-10-22\n",
      "Year 2019\n",
      "Month 10\n",
      "Day 22\n",
      "2025-02-11\n",
      "1998-08-12 2025-02-11\n",
      "delta 9680 days, 0:00:00 836352000.0\n"
     ]
    }
   ],
   "source": [
    "#Date\n",
    "from datetime import date\n",
    "\n",
    "myday=date(2019,10,22)\n",
    "print(myday)\n",
    "print(\"Year\", myday.year)\n",
    "print(\"Month\", myday.month)\n",
    "print(\"Day\", myday.day)\n",
    "newday = myday.replace(year=2025, month=2, day=11)\n",
    "print(newday)\n",
    "newday=date.fromisoformat(\"1998-08-12\")\n",
    "now = date.today()\n",
    "print(newday, now)\n",
    "\n",
    "delta = now - newday\n",
    "print(\"delta\", delta, delta.total_seconds())"
   ]
  },
  {
   "cell_type": "code",
   "execution_count": 44,
   "metadata": {},
   "outputs": [
    {
     "name": "stdout",
     "output_type": "stream",
     "text": [
      "2019-10-22 13:27:45 2019-10-22T13:27:45 1 2\n",
      "nd 1985-10-03 13:27:15\n",
      "fromiso 1998-08-12 11:25:36\n",
      "2025-02-11 10:20:00.154841+02:00 2025-02-11 10:20:00.154884\n",
      "delta 1938 days, 20:52:15.154884\n"
     ]
    }
   ],
   "source": [
    "#datetime\n",
    "\n",
    "from datetime import datetime, timezone, timedelta\n",
    "\n",
    "md=datetime(2019,10,22,13,27,45)\n",
    "print(md, md.isoformat(), md.weekday(), md.isoweekday())\n",
    "nd=md.replace(1985, day=3, second=15)\n",
    "print(\"nd\", nd)\n",
    "nd=datetime.fromisoformat(\"1998-08-12 11:25:36\")\n",
    "print(\"fromiso\", nd)\n",
    "\n",
    "\n",
    "dnow = datetime.now(timezone(offset = timedelta(hours=2)))\n",
    "dToday = datetime.today()\n",
    "print(dnow, dToday)\n",
    "\n",
    "delta = dToday - md\n",
    "print(\"delta\", delta)\n"
   ]
  },
  {
   "cell_type": "code",
   "execution_count": 47,
   "metadata": {},
   "outputs": [
    {
     "name": "stdout",
     "output_type": "stream",
     "text": [
      "begin\n",
      "end\n"
     ]
    }
   ],
   "source": [
    "#sleep\n",
    "import time\n",
    "\n",
    "print( \"begin\")\n",
    "time.sleep(3)\n",
    "print(\"end\")"
   ]
  }
 ],
 "metadata": {
  "kernelspec": {
   "display_name": "Python 3",
   "language": "python",
   "name": "python3"
  },
  "language_info": {
   "codemirror_mode": {
    "name": "ipython",
    "version": 3
   },
   "file_extension": ".py",
   "mimetype": "text/x-python",
   "name": "python",
   "nbconvert_exporter": "python",
   "pygments_lexer": "ipython3",
   "version": "3.12.3"
  }
 },
 "nbformat": 4,
 "nbformat_minor": 2
}
