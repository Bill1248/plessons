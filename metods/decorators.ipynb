{
 "cells": [
  {
   "cell_type": "code",
   "execution_count": 1,
   "metadata": {},
   "outputs": [
    {
     "name": "stdout",
     "output_type": "stream",
     "text": [
      "Декоратор сработал!\n",
      "Hello!\n"
     ]
    }
   ],
   "source": [
    "def my_decorator(func):  \n",
    "    def wrapper():  \n",
    "        print(\"Декоратор сработал!\")  \n",
    "        return func()  # Вызываем исходную функцию  \n",
    "    return wrapper  # Возвращаем обёрнутую функцию\n",
    "\n",
    "def say_hello():\n",
    "    print(\"Hello!\")\n",
    "\n",
    "say_hello = my_decorator(say_hello)  # Оборачиваем вручную\n",
    "say_hello()\n"
   ]
  },
  {
   "cell_type": "code",
   "execution_count": 1,
   "metadata": {},
   "outputs": [
    {
     "name": "stdout",
     "output_type": "stream",
     "text": [
      "До вызова функции\n",
      "Привет!\n",
      "После вызова функции\n"
     ]
    }
   ],
   "source": [
    "\n",
    "def simple_decorator(func):\n",
    "    def wrapper():\n",
    "        print(\"До вызова функции\")\n",
    "        func()\n",
    "        print(\"После вызова функции\")\n",
    "    return wrapper\n",
    "\n",
    "@simple_decorator\n",
    "def say_hello():\n",
    "    print(\"Привет!\")\n",
    "\n",
    "# Вызов функции\n",
    "say_hello()\n"
   ]
  },
  {
   "cell_type": "code",
   "execution_count": null,
   "metadata": {},
   "outputs": [],
   "source": [
    "# Декоратор с `args` и `kwargs` (универсальный вариант)  \n",
    "# Если функция принимает аргументы, их нужно передавать через args и kwargs"
   ]
  },
  {
   "cell_type": "code",
   "execution_count": 2,
   "metadata": {},
   "outputs": [
    {
     "name": "stdout",
     "output_type": "stream",
     "text": [
      "Вызываем greet с аргументами: ('Alice',), {}\n",
      "Привет, Alice!\n"
     ]
    }
   ],
   "source": [
    "def my_decorator(func):\n",
    "    def wrapper(*args, **kwargs):  # Поддержка любых аргументов\n",
    "        print(f\"Вызываем {func.__name__} с аргументами: {args}, {kwargs}\")\n",
    "        return func(*args, **kwargs)  # Вызываем оригинальную функцию\n",
    "    return wrapper\n",
    "\n",
    "@my_decorator\n",
    "def greet(name):\n",
    "    print(f\"Привет, {name}!\")\n",
    "\n",
    "greet(\"Alice\")\n"
   ]
  },
  {
   "cell_type": "code",
   "execution_count": null,
   "metadata": {},
   "outputs": [],
   "source": [
    "# Декоратор с параметрами (фабрика декораторов)  \n",
    "# Чтобы передавать параметры в декоратор, создаём функцию, которая возвращает декоратор"
   ]
  },
  {
   "cell_type": "code",
   "execution_count": 3,
   "metadata": {},
   "outputs": [
    {
     "name": "stdout",
     "output_type": "stream",
     "text": [
      "Hello!\n",
      "Hello!\n",
      "Hello!\n"
     ]
    }
   ],
   "source": [
    "def repeat(times):  # Функция с параметром\n",
    "    def decorator(func):\n",
    "        def wrapper(*args, **kwargs):\n",
    "            for _ in range(times):  # Повторяем вызов функции\n",
    "                func(*args, **kwargs)\n",
    "        return wrapper\n",
    "    return decorator  # Возвращаем декоратор\n",
    "\n",
    "@repeat(3)  # Передаём 3 → `repeat(3)` вернёт `decorator`\n",
    "def hello():\n",
    "    print(\"Hello!\")\n",
    "\n",
    "hello()\n"
   ]
  },
  {
   "cell_type": "code",
   "execution_count": null,
   "metadata": {},
   "outputs": [],
   "source": [
    "# Декораторы классов (`functools.wraps`)  \n",
    "# Обычные декораторы ломают метаданные функции (__name__, __doc__).  "
   ]
  },
  {
   "cell_type": "code",
   "execution_count": 4,
   "metadata": {},
   "outputs": [
    {
     "name": "stdout",
     "output_type": "stream",
     "text": [
      "greet\n",
      "Функция приветствия\n"
     ]
    }
   ],
   "source": [
    "import functools\n",
    "\n",
    "def my_decorator(func):\n",
    "    @functools.wraps(func)  # Сохраняем метаданные\n",
    "    def wrapper(*args, **kwargs):\n",
    "        print(\"Декоратор сработал!\")\n",
    "        return func(*args, **kwargs)\n",
    "    return wrapper\n",
    "\n",
    "@my_decorator\n",
    "def greet():\n",
    "    \"\"\"Функция приветствия\"\"\"\n",
    "    print(\"Hello!\")\n",
    "\n",
    "print(greet.__name__)  # greet (без wraps было бы wrapper)\n",
    "print(greet.__doc__)  # Функция приветствия\n"
   ]
  }
 ],
 "metadata": {
  "kernelspec": {
   "display_name": "Python 3",
   "language": "python",
   "name": "python3"
  },
  "language_info": {
   "codemirror_mode": {
    "name": "ipython",
    "version": 3
   },
   "file_extension": ".py",
   "mimetype": "text/x-python",
   "name": "python",
   "nbconvert_exporter": "python",
   "pygments_lexer": "ipython3",
   "version": "3.13.2"
  }
 },
 "nbformat": 4,
 "nbformat_minor": 2
}
